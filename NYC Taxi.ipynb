{
 "cells": [
  {
   "cell_type": "markdown",
   "id": "3c7802c0",
   "metadata": {},
   "source": [
    "# NYC Taxi"
   ]
  },
  {
   "cell_type": "markdown",
   "id": "180398c5",
   "metadata": {},
   "source": [
    "## Introduction\n",
    "\n",
    "A new ride sharing company is your client. They are looking to start up a rival service to Uber or Lyft in NYC and are interested in using the Taxi Data to get insight into the transportation sector in New York. They have tasked you to get to know the data and start to build some simple models off of it."
   ]
  },
  {
   "cell_type": "markdown",
   "id": "027ef5f4",
   "metadata": {},
   "source": [
    "### Imports"
   ]
  },
  {
   "cell_type": "code",
   "execution_count": 1,
   "id": "b1926e0a",
   "metadata": {},
   "outputs": [],
   "source": [
    "import pandas as pd\n",
    "import matplotlib.pyplot as plt\n",
    "import os"
   ]
  },
  {
   "cell_type": "markdown",
   "id": "ad501d70",
   "metadata": {},
   "source": [
    "### Config"
   ]
  },
  {
   "cell_type": "code",
   "execution_count": 2,
   "id": "b26d1b21",
   "metadata": {},
   "outputs": [],
   "source": [
    "DATA_PATH = 'data/'"
   ]
  },
  {
   "cell_type": "markdown",
   "id": "6d94f6e1",
   "metadata": {},
   "source": [
    "### Data Loading"
   ]
  },
  {
   "cell_type": "code",
   "execution_count": 3,
   "id": "1dca5fd9",
   "metadata": {},
   "outputs": [
    {
     "name": "stdout",
     "output_type": "stream",
     "text": [
      "Loading file yellow_tripdata_2017-03.parquet\n",
      "Loading file yellow_tripdata_2017-11.parquet\n",
      "Loading file yellow_tripdata_2017-06.parquet\n",
      "Final dataset shape (29237237, 19)\n"
     ]
    }
   ],
   "source": [
    "dfs = []\n",
    "for file in os.listdir(DATA_PATH):\n",
    "    print(f'Loading file {file}')\n",
    "    dfs.append(pd.read_parquet(os.path.join(DATA_PATH, file), engine='fastparquet'))\n",
    "data = pd.concat(dfs)\n",
    "print(f'Final dataset shape {data.shape}')"
   ]
  },
  {
   "cell_type": "markdown",
   "id": "073c8459",
   "metadata": {},
   "source": [
    "## Exploratory Data Analysis & Data Summary"
   ]
  },
  {
   "cell_type": "markdown",
   "id": "c9b334f6",
   "metadata": {},
   "source": [
    "To start, I will print few examples of data rows."
   ]
  },
  {
   "cell_type": "code",
   "execution_count": 4,
   "id": "f9c40d10",
   "metadata": {},
   "outputs": [
    {
     "data": {
      "text/html": [
       "<div>\n",
       "<style scoped>\n",
       "    .dataframe tbody tr th:only-of-type {\n",
       "        vertical-align: middle;\n",
       "    }\n",
       "\n",
       "    .dataframe tbody tr th {\n",
       "        vertical-align: top;\n",
       "    }\n",
       "\n",
       "    .dataframe thead th {\n",
       "        text-align: right;\n",
       "    }\n",
       "</style>\n",
       "<table border=\"1\" class=\"dataframe\">\n",
       "  <thead>\n",
       "    <tr style=\"text-align: right;\">\n",
       "      <th></th>\n",
       "      <th>VendorID</th>\n",
       "      <th>tpep_pickup_datetime</th>\n",
       "      <th>tpep_dropoff_datetime</th>\n",
       "      <th>passenger_count</th>\n",
       "      <th>trip_distance</th>\n",
       "      <th>RatecodeID</th>\n",
       "      <th>store_and_fwd_flag</th>\n",
       "      <th>PULocationID</th>\n",
       "      <th>DOLocationID</th>\n",
       "      <th>payment_type</th>\n",
       "      <th>fare_amount</th>\n",
       "      <th>extra</th>\n",
       "      <th>mta_tax</th>\n",
       "      <th>tip_amount</th>\n",
       "      <th>tolls_amount</th>\n",
       "      <th>improvement_surcharge</th>\n",
       "      <th>total_amount</th>\n",
       "      <th>congestion_surcharge</th>\n",
       "      <th>airport_fee</th>\n",
       "    </tr>\n",
       "  </thead>\n",
       "  <tbody>\n",
       "    <tr>\n",
       "      <th>0</th>\n",
       "      <td>1</td>\n",
       "      <td>2017-03-01 00:38:16</td>\n",
       "      <td>2017-03-01 00:59:21</td>\n",
       "      <td>1</td>\n",
       "      <td>10.5</td>\n",
       "      <td>1</td>\n",
       "      <td>N</td>\n",
       "      <td>231</td>\n",
       "      <td>42</td>\n",
       "      <td>1</td>\n",
       "      <td>30.5</td>\n",
       "      <td>0.5</td>\n",
       "      <td>0.5</td>\n",
       "      <td>6.00</td>\n",
       "      <td>0.0</td>\n",
       "      <td>0.3</td>\n",
       "      <td>37.80</td>\n",
       "      <td>&lt;NA&gt;</td>\n",
       "      <td>&lt;NA&gt;</td>\n",
       "    </tr>\n",
       "    <tr>\n",
       "      <th>1</th>\n",
       "      <td>1</td>\n",
       "      <td>2017-03-01 00:25:01</td>\n",
       "      <td>2017-03-01 00:31:36</td>\n",
       "      <td>1</td>\n",
       "      <td>1.4</td>\n",
       "      <td>1</td>\n",
       "      <td>N</td>\n",
       "      <td>239</td>\n",
       "      <td>262</td>\n",
       "      <td>1</td>\n",
       "      <td>7.5</td>\n",
       "      <td>0.5</td>\n",
       "      <td>0.5</td>\n",
       "      <td>1.75</td>\n",
       "      <td>0.0</td>\n",
       "      <td>0.3</td>\n",
       "      <td>10.55</td>\n",
       "      <td>&lt;NA&gt;</td>\n",
       "      <td>&lt;NA&gt;</td>\n",
       "    </tr>\n",
       "    <tr>\n",
       "      <th>2</th>\n",
       "      <td>1</td>\n",
       "      <td>2017-03-01 00:43:48</td>\n",
       "      <td>2017-03-01 00:44:17</td>\n",
       "      <td>1</td>\n",
       "      <td>0.0</td>\n",
       "      <td>1</td>\n",
       "      <td>N</td>\n",
       "      <td>145</td>\n",
       "      <td>145</td>\n",
       "      <td>2</td>\n",
       "      <td>2.5</td>\n",
       "      <td>0.5</td>\n",
       "      <td>0.5</td>\n",
       "      <td>0.00</td>\n",
       "      <td>0.0</td>\n",
       "      <td>0.3</td>\n",
       "      <td>3.80</td>\n",
       "      <td>&lt;NA&gt;</td>\n",
       "      <td>&lt;NA&gt;</td>\n",
       "    </tr>\n",
       "    <tr>\n",
       "      <th>3</th>\n",
       "      <td>1</td>\n",
       "      <td>2017-03-01 00:47:17</td>\n",
       "      <td>2017-03-01 00:47:33</td>\n",
       "      <td>1</td>\n",
       "      <td>0.0</td>\n",
       "      <td>1</td>\n",
       "      <td>N</td>\n",
       "      <td>145</td>\n",
       "      <td>145</td>\n",
       "      <td>2</td>\n",
       "      <td>2.5</td>\n",
       "      <td>0.5</td>\n",
       "      <td>0.5</td>\n",
       "      <td>0.00</td>\n",
       "      <td>0.0</td>\n",
       "      <td>0.3</td>\n",
       "      <td>3.80</td>\n",
       "      <td>&lt;NA&gt;</td>\n",
       "      <td>&lt;NA&gt;</td>\n",
       "    </tr>\n",
       "    <tr>\n",
       "      <th>4</th>\n",
       "      <td>1</td>\n",
       "      <td>2017-03-01 00:13:37</td>\n",
       "      <td>2017-03-01 00:13:46</td>\n",
       "      <td>1</td>\n",
       "      <td>0.0</td>\n",
       "      <td>1</td>\n",
       "      <td>N</td>\n",
       "      <td>145</td>\n",
       "      <td>145</td>\n",
       "      <td>2</td>\n",
       "      <td>2.5</td>\n",
       "      <td>0.5</td>\n",
       "      <td>0.5</td>\n",
       "      <td>0.00</td>\n",
       "      <td>0.0</td>\n",
       "      <td>0.3</td>\n",
       "      <td>3.80</td>\n",
       "      <td>&lt;NA&gt;</td>\n",
       "      <td>&lt;NA&gt;</td>\n",
       "    </tr>\n",
       "  </tbody>\n",
       "</table>\n",
       "</div>"
      ],
      "text/plain": [
       "   VendorID tpep_pickup_datetime tpep_dropoff_datetime  passenger_count  \\\n",
       "0         1  2017-03-01 00:38:16   2017-03-01 00:59:21                1   \n",
       "1         1  2017-03-01 00:25:01   2017-03-01 00:31:36                1   \n",
       "2         1  2017-03-01 00:43:48   2017-03-01 00:44:17                1   \n",
       "3         1  2017-03-01 00:47:17   2017-03-01 00:47:33                1   \n",
       "4         1  2017-03-01 00:13:37   2017-03-01 00:13:46                1   \n",
       "\n",
       "   trip_distance  RatecodeID store_and_fwd_flag  PULocationID  DOLocationID  \\\n",
       "0           10.5           1                  N           231            42   \n",
       "1            1.4           1                  N           239           262   \n",
       "2            0.0           1                  N           145           145   \n",
       "3            0.0           1                  N           145           145   \n",
       "4            0.0           1                  N           145           145   \n",
       "\n",
       "   payment_type  fare_amount  extra  mta_tax  tip_amount  tolls_amount  \\\n",
       "0             1         30.5    0.5      0.5        6.00           0.0   \n",
       "1             1          7.5    0.5      0.5        1.75           0.0   \n",
       "2             2          2.5    0.5      0.5        0.00           0.0   \n",
       "3             2          2.5    0.5      0.5        0.00           0.0   \n",
       "4             2          2.5    0.5      0.5        0.00           0.0   \n",
       "\n",
       "   improvement_surcharge  total_amount  congestion_surcharge  airport_fee  \n",
       "0                    0.3         37.80                  <NA>         <NA>  \n",
       "1                    0.3         10.55                  <NA>         <NA>  \n",
       "2                    0.3          3.80                  <NA>         <NA>  \n",
       "3                    0.3          3.80                  <NA>         <NA>  \n",
       "4                    0.3          3.80                  <NA>         <NA>  "
      ]
     },
     "execution_count": 4,
     "metadata": {},
     "output_type": "execute_result"
    }
   ],
   "source": [
    "data.head()"
   ]
  },
  {
   "cell_type": "markdown",
   "id": "8818ca84",
   "metadata": {},
   "source": [
    "In the first few rows we can see some interesting things. First, we have some different types of data. Some seem to be categorical, some are dates and also we can see there are two columns, *congestion_surcharge* and *airport_fee* that contains *NA* values. Let's see description of the different columns."
   ]
  },
  {
   "cell_type": "code",
   "execution_count": 5,
   "id": "a252f865",
   "metadata": {},
   "outputs": [
    {
     "name": "stdout",
     "output_type": "stream",
     "text": [
      "<class 'pandas.core.frame.DataFrame'>\n",
      "Int64Index: 29237237 entries, 0 to 9656992\n",
      "Data columns (total 19 columns):\n",
      " #   Column                 Non-Null Count     Dtype         \n",
      "---  ------                 --------------     -----         \n",
      " 0   VendorID               29237237 non-null  int64         \n",
      " 1   tpep_pickup_datetime   29237237 non-null  datetime64[ns]\n",
      " 2   tpep_dropoff_datetime  29237237 non-null  datetime64[ns]\n",
      " 3   passenger_count        29237237 non-null  int64         \n",
      " 4   trip_distance          29237237 non-null  float64       \n",
      " 5   RatecodeID             29237237 non-null  int64         \n",
      " 6   store_and_fwd_flag     29237237 non-null  object        \n",
      " 7   PULocationID           29237237 non-null  int64         \n",
      " 8   DOLocationID           29237237 non-null  int64         \n",
      " 9   payment_type           29237237 non-null  int64         \n",
      " 10  fare_amount            29237237 non-null  float64       \n",
      " 11  extra                  29237237 non-null  float64       \n",
      " 12  mta_tax                29237237 non-null  float64       \n",
      " 13  tip_amount             29237237 non-null  float64       \n",
      " 14  tolls_amount           29237237 non-null  float64       \n",
      " 15  improvement_surcharge  29237237 non-null  float64       \n",
      " 16  total_amount           29237237 non-null  float64       \n",
      " 17  congestion_surcharge   0 non-null         Int32         \n",
      " 18  airport_fee            0 non-null         Int32         \n",
      "dtypes: Int32(2), datetime64[ns](2), float64(8), int64(6), object(1)\n",
      "memory usage: 4.2+ GB\n"
     ]
    }
   ],
   "source": [
    "data.info(null_counts=True)"
   ]
  },
  {
   "cell_type": "markdown",
   "id": "209ab0de",
   "metadata": {},
   "source": [
    "With this description of the dataset we can see that the two columns containing *NA* values are completely empty. Also, we see that none of the remaining columns contain missing values, which is really good and something strange in real world datasets. "
   ]
  },
  {
   "cell_type": "markdown",
   "id": "57719315",
   "metadata": {},
   "source": [
    "Also, there are some columns that are represented as integers but could be better represented as Categorical data type. These columns are:\n",
    "\n",
    "- PULocationID\n",
    "- DOLocationID\n",
    "- VendorID\n",
    "- store_and_fwd_flag\n",
    "- RatecodeID\n",
    "- payment_type\n",
    "\n",
    "So I will convert them to Categorical. This will also help to reduce the dataset size (in terms of memory usage), which will make it easier to work with."
   ]
  },
  {
   "cell_type": "code",
   "execution_count": 6,
   "id": "c5dc5118",
   "metadata": {},
   "outputs": [],
   "source": [
    "cat_columns = ['PULocationID', 'DOLocationID', 'VendorID', 'store_and_fwd_flag', 'RatecodeID', 'payment_type']\n",
    "for col in cat_columns:\n",
    "    data[col] = pd.Categorical(data[col])"
   ]
  },
  {
   "cell_type": "markdown",
   "id": "3f07d2f3",
   "metadata": {},
   "source": [
    "Drop empty columns."
   ]
  },
  {
   "cell_type": "code",
   "execution_count": 7,
   "id": "b6777f28",
   "metadata": {},
   "outputs": [],
   "source": [
    "data.drop(columns=['congestion_surcharge', 'airport_fee'], inplace=True)"
   ]
  },
  {
   "cell_type": "code",
   "execution_count": 8,
   "id": "a8601d70",
   "metadata": {},
   "outputs": [
    {
     "name": "stdout",
     "output_type": "stream",
     "text": [
      "<class 'pandas.core.frame.DataFrame'>\n",
      "Int64Index: 29237237 entries, 0 to 9656992\n",
      "Data columns (total 17 columns):\n",
      " #   Column                 Dtype         \n",
      "---  ------                 -----         \n",
      " 0   VendorID               category      \n",
      " 1   tpep_pickup_datetime   datetime64[ns]\n",
      " 2   tpep_dropoff_datetime  datetime64[ns]\n",
      " 3   passenger_count        int64         \n",
      " 4   trip_distance          float64       \n",
      " 5   RatecodeID             category      \n",
      " 6   store_and_fwd_flag     category      \n",
      " 7   PULocationID           category      \n",
      " 8   DOLocationID           category      \n",
      " 9   payment_type           category      \n",
      " 10  fare_amount            float64       \n",
      " 11  extra                  float64       \n",
      " 12  mta_tax                float64       \n",
      " 13  tip_amount             float64       \n",
      " 14  tolls_amount           float64       \n",
      " 15  improvement_surcharge  float64       \n",
      " 16  total_amount           float64       \n",
      "dtypes: category(6), datetime64[ns](2), float64(8), int64(1)\n",
      "memory usage: 2.8 GB\n"
     ]
    }
   ],
   "source": [
    "data.info()"
   ]
  },
  {
   "cell_type": "markdown",
   "id": "e4b77ab2",
   "metadata": {},
   "source": [
    "As we can see in the info above, we fixed the different columns and this reduced the memory usage of the dataset in a ~33%."
   ]
  },
  {
   "cell_type": "markdown",
   "id": "22beca70",
   "metadata": {},
   "source": [
    "Next, I will explore the distribution of the variables. For this, I will split the data into different sets depending in their type: Numerical, Categorical and Dates."
   ]
  },
  {
   "cell_type": "code",
   "execution_count": 9,
   "id": "d6683c0a",
   "metadata": {},
   "outputs": [],
   "source": [
    "num_features = data.select_dtypes(['int', 'float'])"
   ]
  },
  {
   "cell_type": "code",
   "execution_count": 10,
   "id": "fb6576df",
   "metadata": {},
   "outputs": [],
   "source": [
    "cat_features = data.select_dtypes('category')"
   ]
  },
  {
   "cell_type": "code",
   "execution_count": 11,
   "id": "4aff4cb0",
   "metadata": {},
   "outputs": [],
   "source": [
    "date_features = data.select_dtypes('datetime')"
   ]
  },
  {
   "cell_type": "markdown",
   "id": "1404231b",
   "metadata": {},
   "source": [
    "### Numeric features"
   ]
  },
  {
   "cell_type": "markdown",
   "id": "4cd48b58",
   "metadata": {},
   "source": [
    "Let's start with the numeric features. First, I will describe them through basic statistical measures and also I will plot their distributions"
   ]
  },
  {
   "cell_type": "code",
   "execution_count": 12,
   "id": "8cc4e74e",
   "metadata": {},
   "outputs": [
    {
     "data": {
      "text/html": [
       "<div>\n",
       "<style scoped>\n",
       "    .dataframe tbody tr th:only-of-type {\n",
       "        vertical-align: middle;\n",
       "    }\n",
       "\n",
       "    .dataframe tbody tr th {\n",
       "        vertical-align: top;\n",
       "    }\n",
       "\n",
       "    .dataframe thead th {\n",
       "        text-align: right;\n",
       "    }\n",
       "</style>\n",
       "<table border=\"1\" class=\"dataframe\">\n",
       "  <thead>\n",
       "    <tr style=\"text-align: right;\">\n",
       "      <th></th>\n",
       "      <th>passenger_count</th>\n",
       "      <th>trip_distance</th>\n",
       "      <th>fare_amount</th>\n",
       "      <th>extra</th>\n",
       "      <th>mta_tax</th>\n",
       "      <th>tip_amount</th>\n",
       "      <th>tolls_amount</th>\n",
       "      <th>improvement_surcharge</th>\n",
       "      <th>total_amount</th>\n",
       "    </tr>\n",
       "  </thead>\n",
       "  <tbody>\n",
       "    <tr>\n",
       "      <th>count</th>\n",
       "      <td>2.923724e+07</td>\n",
       "      <td>2.923724e+07</td>\n",
       "      <td>2.923724e+07</td>\n",
       "      <td>2.923724e+07</td>\n",
       "      <td>2.923724e+07</td>\n",
       "      <td>2.923724e+07</td>\n",
       "      <td>2.923724e+07</td>\n",
       "      <td>2.923724e+07</td>\n",
       "      <td>2.923724e+07</td>\n",
       "    </tr>\n",
       "    <tr>\n",
       "      <th>mean</th>\n",
       "      <td>1.617837e+00</td>\n",
       "      <td>2.919382e+00</td>\n",
       "      <td>1.310928e+01</td>\n",
       "      <td>3.339417e-01</td>\n",
       "      <td>4.973105e-01</td>\n",
       "      <td>1.874053e+00</td>\n",
       "      <td>3.290105e-01</td>\n",
       "      <td>2.996283e-01</td>\n",
       "      <td>1.644708e+01</td>\n",
       "    </tr>\n",
       "    <tr>\n",
       "      <th>std</th>\n",
       "      <td>1.261040e+00</td>\n",
       "      <td>4.476505e+00</td>\n",
       "      <td>1.472796e+02</td>\n",
       "      <td>4.615720e-01</td>\n",
       "      <td>7.081616e-02</td>\n",
       "      <td>2.645560e+00</td>\n",
       "      <td>1.968867e+00</td>\n",
       "      <td>1.408884e-02</td>\n",
       "      <td>1.475227e+02</td>\n",
       "    </tr>\n",
       "    <tr>\n",
       "      <th>min</th>\n",
       "      <td>0.000000e+00</td>\n",
       "      <td>0.000000e+00</td>\n",
       "      <td>-5.500000e+02</td>\n",
       "      <td>-5.371000e+01</td>\n",
       "      <td>-5.000000e-01</td>\n",
       "      <td>-1.120000e+02</td>\n",
       "      <td>-1.750000e+01</td>\n",
       "      <td>-3.000000e-01</td>\n",
       "      <td>-5.503000e+02</td>\n",
       "    </tr>\n",
       "    <tr>\n",
       "      <th>25%</th>\n",
       "      <td>1.000000e+00</td>\n",
       "      <td>9.700000e-01</td>\n",
       "      <td>6.500000e+00</td>\n",
       "      <td>0.000000e+00</td>\n",
       "      <td>5.000000e-01</td>\n",
       "      <td>0.000000e+00</td>\n",
       "      <td>0.000000e+00</td>\n",
       "      <td>3.000000e-01</td>\n",
       "      <td>8.750000e+00</td>\n",
       "    </tr>\n",
       "    <tr>\n",
       "      <th>50%</th>\n",
       "      <td>1.000000e+00</td>\n",
       "      <td>1.600000e+00</td>\n",
       "      <td>9.500000e+00</td>\n",
       "      <td>0.000000e+00</td>\n",
       "      <td>5.000000e-01</td>\n",
       "      <td>1.360000e+00</td>\n",
       "      <td>0.000000e+00</td>\n",
       "      <td>3.000000e-01</td>\n",
       "      <td>1.180000e+01</td>\n",
       "    </tr>\n",
       "    <tr>\n",
       "      <th>75%</th>\n",
       "      <td>2.000000e+00</td>\n",
       "      <td>3.010000e+00</td>\n",
       "      <td>1.450000e+01</td>\n",
       "      <td>5.000000e-01</td>\n",
       "      <td>5.000000e-01</td>\n",
       "      <td>2.460000e+00</td>\n",
       "      <td>0.000000e+00</td>\n",
       "      <td>3.000000e-01</td>\n",
       "      <td>1.780000e+01</td>\n",
       "    </tr>\n",
       "    <tr>\n",
       "      <th>max</th>\n",
       "      <td>1.920000e+02</td>\n",
       "      <td>9.496980e+03</td>\n",
       "      <td>6.304618e+05</td>\n",
       "      <td>6.980000e+01</td>\n",
       "      <td>1.400000e+02</td>\n",
       "      <td>4.500000e+02</td>\n",
       "      <td>1.018950e+03</td>\n",
       "      <td>1.000000e+00</td>\n",
       "      <td>6.304631e+05</td>\n",
       "    </tr>\n",
       "  </tbody>\n",
       "</table>\n",
       "</div>"
      ],
      "text/plain": [
       "       passenger_count  trip_distance   fare_amount         extra  \\\n",
       "count     2.923724e+07   2.923724e+07  2.923724e+07  2.923724e+07   \n",
       "mean      1.617837e+00   2.919382e+00  1.310928e+01  3.339417e-01   \n",
       "std       1.261040e+00   4.476505e+00  1.472796e+02  4.615720e-01   \n",
       "min       0.000000e+00   0.000000e+00 -5.500000e+02 -5.371000e+01   \n",
       "25%       1.000000e+00   9.700000e-01  6.500000e+00  0.000000e+00   \n",
       "50%       1.000000e+00   1.600000e+00  9.500000e+00  0.000000e+00   \n",
       "75%       2.000000e+00   3.010000e+00  1.450000e+01  5.000000e-01   \n",
       "max       1.920000e+02   9.496980e+03  6.304618e+05  6.980000e+01   \n",
       "\n",
       "            mta_tax    tip_amount  tolls_amount  improvement_surcharge  \\\n",
       "count  2.923724e+07  2.923724e+07  2.923724e+07           2.923724e+07   \n",
       "mean   4.973105e-01  1.874053e+00  3.290105e-01           2.996283e-01   \n",
       "std    7.081616e-02  2.645560e+00  1.968867e+00           1.408884e-02   \n",
       "min   -5.000000e-01 -1.120000e+02 -1.750000e+01          -3.000000e-01   \n",
       "25%    5.000000e-01  0.000000e+00  0.000000e+00           3.000000e-01   \n",
       "50%    5.000000e-01  1.360000e+00  0.000000e+00           3.000000e-01   \n",
       "75%    5.000000e-01  2.460000e+00  0.000000e+00           3.000000e-01   \n",
       "max    1.400000e+02  4.500000e+02  1.018950e+03           1.000000e+00   \n",
       "\n",
       "       total_amount  \n",
       "count  2.923724e+07  \n",
       "mean   1.644708e+01  \n",
       "std    1.475227e+02  \n",
       "min   -5.503000e+02  \n",
       "25%    8.750000e+00  \n",
       "50%    1.180000e+01  \n",
       "75%    1.780000e+01  \n",
       "max    6.304631e+05  "
      ]
     },
     "execution_count": 12,
     "metadata": {},
     "output_type": "execute_result"
    }
   ],
   "source": [
    "num_features.describe()"
   ]
  },
  {
   "cell_type": "code",
   "execution_count": 13,
   "id": "040b71b3",
   "metadata": {},
   "outputs": [
    {
     "data": {
      "text/plain": [
       "array([[<AxesSubplot:title={'center':'passenger_count'}>,\n",
       "        <AxesSubplot:title={'center':'trip_distance'}>,\n",
       "        <AxesSubplot:title={'center':'fare_amount'}>],\n",
       "       [<AxesSubplot:title={'center':'extra'}>,\n",
       "        <AxesSubplot:title={'center':'mta_tax'}>,\n",
       "        <AxesSubplot:title={'center':'tip_amount'}>],\n",
       "       [<AxesSubplot:title={'center':'tolls_amount'}>,\n",
       "        <AxesSubplot:title={'center':'improvement_surcharge'}>,\n",
       "        <AxesSubplot:title={'center':'total_amount'}>]], dtype=object)"
      ]
     },
     "execution_count": 13,
     "metadata": {},
     "output_type": "execute_result"
    },
    {
     "data": {
      "image/png": "[encoded data removed]",
      "text/plain": [
       "<Figure size 1080x576 with 9 Axes>"
      ]
     },
     "metadata": {
      "needs_background": "light"
     },
     "output_type": "display_data"
    }
   ],
   "source": [
    "num_features.hist(bins=100, figsize=(15, 8))"
   ]
  },
  {
   "cell_type": "markdown",
   "id": "cba9005b",
   "metadata": {},
   "source": [
    "By looking at the statistical descriptors and the distribution plots we can see many interesting things. I will list them in the following lines."
   ]
  },
  {
   "cell_type": "markdown",
   "id": "1b50a60e",
   "metadata": {},
   "source": [
    "- **passenger_count**: \n",
    "    - I can see the minimum number of passenger is 0. Does makes sense a ride without passengers?? Here I will take **the assumption that this is wrong**, so these values will be deleted.\n",
    "    - The maximum number of passengers is 192. This is clearly a mistake, so this value will also be deleted.\n",
    "    - Finally, if we take a look at the Value Counts, we see that we also have some big number of passengers. After a quick research on the internet, **I will assume that there are big taxis that can take up to 6 passengers**, all the others are errors and will also be deleted."
   ]
  },
  {
   "cell_type": "code",
   "execution_count": 14,
   "id": "d806c3b3",
   "metadata": {},
   "outputs": [
    {
     "data": {
      "text/plain": [
       "1      20962609\n",
       "2       4219587\n",
       "5       1388266\n",
       "3       1205107\n",
       "6        850939\n",
       "4        558726\n",
       "0         51760\n",
       "8            88\n",
       "7            88\n",
       "9            66\n",
       "192           1\n",
       "Name: passenger_count, dtype: int64"
      ]
     },
     "execution_count": 14,
     "metadata": {},
     "output_type": "execute_result"
    }
   ],
   "source": [
    "data['passenger_count'].value_counts()"
   ]
  },
  {
   "cell_type": "code",
   "execution_count": 15,
   "id": "7a924b35",
   "metadata": {},
   "outputs": [],
   "source": [
    "data_clean = data[(data['passenger_count'] > 0) & (data['passenger_count'] <= 6)]"
   ]
  },
  {
   "cell_type": "markdown",
   "id": "a2ac8f33",
   "metadata": {},
   "source": [
    "Around 52k records have been deleted."
   ]
  },
  {
   "cell_type": "markdown",
   "id": "426b8a3d",
   "metadata": {},
   "source": [
    "- **trip_distance**\n",
    "    - Minimum trip distance is 0 miles. These recors will be deleted.\n",
    "    - Maximum trip distance is 9496.98 miles, which seems to be an error. \n",
    "    - In the case of Trip distance, since it's a float variable and it's harder to decide when it's outlier and when it's not, a quantitative method will be used to decide: the IQR method. But first I will delete the values having 0 miles."
   ]
  },
  {
   "cell_type": "code",
   "execution_count": 16,
   "id": "95d7ef93",
   "metadata": {},
   "outputs": [],
   "source": [
    "data_clean = data_clean[data_clean['trip_distance'] > 0]"
   ]
  },
  {
   "cell_type": "code",
   "execution_count": 17,
   "id": "382a6459",
   "metadata": {},
   "outputs": [
    {
     "data": {
      "text/plain": [
       "count    2.899567e+07\n",
       "mean     2.938921e+00\n",
       "std      4.486187e+00\n",
       "min      1.000000e-02\n",
       "25%      9.900000e-01\n",
       "50%      1.620000e+00\n",
       "75%      3.040000e+00\n",
       "max      9.496980e+03\n",
       "Name: trip_distance, dtype: float64"
      ]
     },
     "execution_count": 17,
     "metadata": {},
     "output_type": "execute_result"
    }
   ],
   "source": [
    "data_clean['trip_distance'].describe()"
   ]
  },
  {
   "cell_type": "markdown",
   "id": "16d2b447",
   "metadata": {},
   "source": [
    "I will define a functions that will delete the outliers of a given column by using the IQR method."
   ]
  },
  {
   "cell_type": "code",
   "execution_count": 18,
   "id": "8a294630",
   "metadata": {},
   "outputs": [],
   "source": [
    "def delete_outliers(df, feature):\n",
    "    \"\"\"\n",
    "    Delete outliers for the given feature using the IQR Method\n",
    "    \"\"\"\n",
    "    q1 = df[feature].quantile(0.25)\n",
    "    q3 = df[feature].quantile(0.75)\n",
    "    iqr = q3 - q1\n",
    "    \n",
    "    lower_limit = q1 - 3 * iqr\n",
    "    upper_limit = q3 + 3 * iqr\n",
    "    \n",
    "    return df[(df[feature] >= lower_limit) & (df[feature] <= upper_limit)]"
   ]
  },
  {
   "cell_type": "code",
   "execution_count": 19,
   "id": "99492e12",
   "metadata": {},
   "outputs": [],
   "source": [
    "data_clean = delete_outliers(data_clean, 'trip_distance')"
   ]
  },
  {
   "cell_type": "markdown",
   "id": "2c24a85e",
   "metadata": {},
   "source": [
    "- **fare_amount**\n",
    "    - I found negative fare amounts. This might be corrections on some amounts or something like that but since it doesn't makes sense for us, we will keep only **positive** fare amounts.\n",
    "    - The maximum amount is 630k$, which doesn't makes sense as well. \n",
    "    - I will delete outliers using the IQR method too."
   ]
  },
  {
   "cell_type": "code",
   "execution_count": 20,
   "id": "68ca7636",
   "metadata": {},
   "outputs": [],
   "source": [
    "data_clean = data_clean[data_clean['fare_amount'] > 0]"
   ]
  },
  {
   "cell_type": "code",
   "execution_count": 21,
   "id": "bb81b253",
   "metadata": {},
   "outputs": [],
   "source": [
    "data_clean = delete_outliers(data_clean, 'fare_amount')"
   ]
  },
  {
   "cell_type": "markdown",
   "id": "459d8d39",
   "metadata": {},
   "source": [
    "- **extra**\n",
    "    - This variable description in the Dictionary is a bit ambiguous. I'm not sure if it only includes 0.5 and 1.0 charges for *Rush hour* and *Overnight Charges*, or 0.5, 1 and *Overnight Charges*. In my case, **I will just assume that we have only positive values and I will detect outliers based in the IQR method** as done with previous variables. "
   ]
  },
  {
   "cell_type": "code",
   "execution_count": 22,
   "id": "67e88e90",
   "metadata": {},
   "outputs": [],
   "source": [
    "data_clean = data_clean[data_clean['extra'] >= 0]"
   ]
  },
  {
   "cell_type": "code",
   "execution_count": 23,
   "id": "ccc4b315",
   "metadata": {},
   "outputs": [],
   "source": [
    "data_clean = delete_outliers(data_clean, 'extra')"
   ]
  },
  {
   "cell_type": "markdown",
   "id": "57c1096c",
   "metadata": {},
   "source": [
    "- **mta_tax**\n",
    "    - In this variable something similar happens. The dictionary says it includes only 0.5\\\\$ tax, but I can find many different values. To continue witht he same approach, **I will take only positive values and remoe outliers based on the IQR method**.\n",
    "    - Still, after applying the IQR method, the resulting values are only these showing 0.5."
   ]
  },
  {
   "cell_type": "code",
   "execution_count": 24,
   "id": "52b94710",
   "metadata": {},
   "outputs": [],
   "source": [
    "data_clean = data_clean[data_clean['mta_tax'] >= 0]"
   ]
  },
  {
   "cell_type": "code",
   "execution_count": 25,
   "id": "387f3496",
   "metadata": {},
   "outputs": [],
   "source": [
    "data_clean = delete_outliers(data_clean, 'mta_tax')"
   ]
  },
  {
   "cell_type": "markdown",
   "id": "7219c444",
   "metadata": {},
   "source": [
    "- **tip_amount**\n",
    "    - In tip amount we also find negative values. We will keep only the positive ones (and zero).\n",
    "    - The outliers will be deleted using the IQR method."
   ]
  },
  {
   "cell_type": "code",
   "execution_count": 26,
   "id": "8eb2efaa",
   "metadata": {},
   "outputs": [],
   "source": [
    "data_clean = data_clean[data_clean['tip_amount'] >= 0]"
   ]
  },
  {
   "cell_type": "code",
   "execution_count": 27,
   "id": "5e357e69",
   "metadata": {},
   "outputs": [],
   "source": [
    "data_clean = delete_outliers(data_clean, 'tip_amount')"
   ]
  },
  {
   "cell_type": "markdown",
   "id": "bc386cde",
   "metadata": {},
   "source": [
    "- **tolls_amount**\n",
    "    - Same process as in the other numeric features. We keep only positive (and zero) values\n",
    "    - Remove outliers using IQR method"
   ]
  },
  {
   "cell_type": "code",
   "execution_count": 28,
   "id": "5505661c",
   "metadata": {},
   "outputs": [],
   "source": [
    "data_clean = data_clean[data_clean['tolls_amount'] >= 0]"
   ]
  },
  {
   "cell_type": "code",
   "execution_count": 29,
   "id": "6a94fb84",
   "metadata": {},
   "outputs": [],
   "source": [
    "data_clean = delete_outliers(data_clean, 'tolls_amount')"
   ]
  },
  {
   "cell_type": "markdown",
   "id": "67913232",
   "metadata": {},
   "source": [
    "- **improvement_surcharge**\n",
    "    - Same process as in the other numeric features. We keep only positive (and zero) values\n",
    "    - Remove outliers using IQR method"
   ]
  },
  {
   "cell_type": "code",
   "execution_count": 30,
   "id": "78ef612b",
   "metadata": {},
   "outputs": [],
   "source": [
    "data_clean = data_clean[data_clean['improvement_surcharge'] >= 0]"
   ]
  },
  {
   "cell_type": "code",
   "execution_count": 31,
   "id": "431fb7da",
   "metadata": {},
   "outputs": [],
   "source": [
    "data_clean = delete_outliers(data_clean, 'improvement_surcharge')"
   ]
  },
  {
   "cell_type": "markdown",
   "id": "9c662c9e",
   "metadata": {},
   "source": [
    "- **total_amount**\n",
    "    - Since this value is calculated with all the others, it should be fixed after removing the outliers in other variables. Still, I will apply the same procedures just in case that some are not correctly calculated.\n",
    "    - Keep only positive values\n",
    "    - Remove outliers with IQR method\n"
   ]
  },
  {
   "cell_type": "code",
   "execution_count": 32,
   "id": "eb48db43",
   "metadata": {},
   "outputs": [],
   "source": [
    "data_clean = data_clean[data_clean['total_amount'] > 0]"
   ]
  },
  {
   "cell_type": "code",
   "execution_count": 33,
   "id": "a31ba7c1",
   "metadata": {},
   "outputs": [],
   "source": [
    "data_clean = delete_outliers(data_clean, 'total_amount')"
   ]
  },
  {
   "cell_type": "markdown",
   "id": "5315f335",
   "metadata": {},
   "source": [
    "Now let's plot the distributions of the variables once again with the clean data."
   ]
  },
  {
   "cell_type": "code",
   "execution_count": 34,
   "id": "d9a406a8",
   "metadata": {},
   "outputs": [
    {
     "data": {
      "text/plain": [
       "array([[<AxesSubplot:title={'center':'passenger_count'}>,\n",
       "        <AxesSubplot:title={'center':'trip_distance'}>,\n",
       "        <AxesSubplot:title={'center':'fare_amount'}>],\n",
       "       [<AxesSubplot:title={'center':'extra'}>,\n",
       "        <AxesSubplot:title={'center':'mta_tax'}>,\n",
       "        <AxesSubplot:title={'center':'tip_amount'}>],\n",
       "       [<AxesSubplot:title={'center':'tolls_amount'}>,\n",
       "        <AxesSubplot:title={'center':'improvement_surcharge'}>,\n",
       "        <AxesSubplot:title={'center':'total_amount'}>]], dtype=object)"
      ]
     },
     "execution_count": 34,
     "metadata": {},
     "output_type": "execute_result"
    },
    {
     "data": {
      "image/png": "[encoded data removed]",
      "text/plain": [
       "<Figure size 1080x576 with 9 Axes>"
      ]
     },
     "metadata": {
      "needs_background": "light"
     },
     "output_type": "display_data"
    }
   ],
   "source": [
    "data_clean.hist(figsize=(15, 8))"
   ]
  },
  {
   "cell_type": "code",
   "execution_count": null,
   "id": "52b6a861",
   "metadata": {},
   "outputs": [],
   "source": []
  },
  {
   "cell_type": "markdown",
   "id": "a76ec7f6",
   "metadata": {},
   "source": [
    "### Categorical features"
   ]
  },
  {
   "cell_type": "markdown",
   "id": "b02d095e",
   "metadata": {},
   "source": [
    "- Eliminar los payment_type 3, ya que son manuales y no incluyen las propinas\n",
    "- Codificar Store_and_fwd como 0/1\n",
    "- VendorID como one_hot??\n",
    "- onehot para RatecodeID??"
   ]
  },
  {
   "cell_type": "code",
   "execution_count": 35,
   "id": "814a5448",
   "metadata": {},
   "outputs": [
    {
     "data": {
      "text/html": [
       "<div>\n",
       "<style scoped>\n",
       "    .dataframe tbody tr th:only-of-type {\n",
       "        vertical-align: middle;\n",
       "    }\n",
       "\n",
       "    .dataframe tbody tr th {\n",
       "        vertical-align: top;\n",
       "    }\n",
       "\n",
       "    .dataframe thead th {\n",
       "        text-align: right;\n",
       "    }\n",
       "</style>\n",
       "<table border=\"1\" class=\"dataframe\">\n",
       "  <thead>\n",
       "    <tr style=\"text-align: right;\">\n",
       "      <th></th>\n",
       "      <th>VendorID</th>\n",
       "      <th>RatecodeID</th>\n",
       "      <th>store_and_fwd_flag</th>\n",
       "      <th>PULocationID</th>\n",
       "      <th>DOLocationID</th>\n",
       "      <th>payment_type</th>\n",
       "    </tr>\n",
       "  </thead>\n",
       "  <tbody>\n",
       "    <tr>\n",
       "      <th>0</th>\n",
       "      <td>1</td>\n",
       "      <td>1</td>\n",
       "      <td>N</td>\n",
       "      <td>231</td>\n",
       "      <td>42</td>\n",
       "      <td>1</td>\n",
       "    </tr>\n",
       "    <tr>\n",
       "      <th>1</th>\n",
       "      <td>1</td>\n",
       "      <td>1</td>\n",
       "      <td>N</td>\n",
       "      <td>239</td>\n",
       "      <td>262</td>\n",
       "      <td>1</td>\n",
       "    </tr>\n",
       "    <tr>\n",
       "      <th>2</th>\n",
       "      <td>1</td>\n",
       "      <td>1</td>\n",
       "      <td>N</td>\n",
       "      <td>145</td>\n",
       "      <td>145</td>\n",
       "      <td>2</td>\n",
       "    </tr>\n",
       "    <tr>\n",
       "      <th>3</th>\n",
       "      <td>1</td>\n",
       "      <td>1</td>\n",
       "      <td>N</td>\n",
       "      <td>145</td>\n",
       "      <td>145</td>\n",
       "      <td>2</td>\n",
       "    </tr>\n",
       "    <tr>\n",
       "      <th>4</th>\n",
       "      <td>1</td>\n",
       "      <td>1</td>\n",
       "      <td>N</td>\n",
       "      <td>145</td>\n",
       "      <td>145</td>\n",
       "      <td>2</td>\n",
       "    </tr>\n",
       "  </tbody>\n",
       "</table>\n",
       "</div>"
      ],
      "text/plain": [
       "  VendorID RatecodeID store_and_fwd_flag PULocationID DOLocationID  \\\n",
       "0        1          1                  N          231           42   \n",
       "1        1          1                  N          239          262   \n",
       "2        1          1                  N          145          145   \n",
       "3        1          1                  N          145          145   \n",
       "4        1          1                  N          145          145   \n",
       "\n",
       "  payment_type  \n",
       "0            1  \n",
       "1            1  \n",
       "2            2  \n",
       "3            2  \n",
       "4            2  "
      ]
     },
     "execution_count": 35,
     "metadata": {},
     "output_type": "execute_result"
    }
   ],
   "source": [
    "cat_features.head()"
   ]
  },
  {
   "cell_type": "code",
   "execution_count": 36,
   "id": "39c31066",
   "metadata": {},
   "outputs": [
    {
     "data": {
      "text/html": [
       "<div>\n",
       "<style scoped>\n",
       "    .dataframe tbody tr th:only-of-type {\n",
       "        vertical-align: middle;\n",
       "    }\n",
       "\n",
       "    .dataframe tbody tr th {\n",
       "        vertical-align: top;\n",
       "    }\n",
       "\n",
       "    .dataframe thead th {\n",
       "        text-align: right;\n",
       "    }\n",
       "</style>\n",
       "<table border=\"1\" class=\"dataframe\">\n",
       "  <thead>\n",
       "    <tr style=\"text-align: right;\">\n",
       "      <th></th>\n",
       "      <th>VendorID</th>\n",
       "      <th>RatecodeID</th>\n",
       "      <th>store_and_fwd_flag</th>\n",
       "      <th>PULocationID</th>\n",
       "      <th>DOLocationID</th>\n",
       "      <th>payment_type</th>\n",
       "    </tr>\n",
       "  </thead>\n",
       "  <tbody>\n",
       "    <tr>\n",
       "      <th>count</th>\n",
       "      <td>29237237</td>\n",
       "      <td>29237237</td>\n",
       "      <td>29237237</td>\n",
       "      <td>29237237</td>\n",
       "      <td>29237237</td>\n",
       "      <td>29237237</td>\n",
       "    </tr>\n",
       "    <tr>\n",
       "      <th>unique</th>\n",
       "      <td>2</td>\n",
       "      <td>7</td>\n",
       "      <td>2</td>\n",
       "      <td>262</td>\n",
       "      <td>263</td>\n",
       "      <td>5</td>\n",
       "    </tr>\n",
       "    <tr>\n",
       "      <th>top</th>\n",
       "      <td>2</td>\n",
       "      <td>1</td>\n",
       "      <td>N</td>\n",
       "      <td>237</td>\n",
       "      <td>236</td>\n",
       "      <td>1</td>\n",
       "    </tr>\n",
       "    <tr>\n",
       "      <th>freq</th>\n",
       "      <td>15961088</td>\n",
       "      <td>28408219</td>\n",
       "      <td>29112771</td>\n",
       "      <td>1159345</td>\n",
       "      <td>1090547</td>\n",
       "      <td>19845082</td>\n",
       "    </tr>\n",
       "  </tbody>\n",
       "</table>\n",
       "</div>"
      ],
      "text/plain": [
       "        VendorID  RatecodeID store_and_fwd_flag  PULocationID  DOLocationID  \\\n",
       "count   29237237    29237237           29237237      29237237      29237237   \n",
       "unique         2           7                  2           262           263   \n",
       "top            2           1                  N           237           236   \n",
       "freq    15961088    28408219           29112771       1159345       1090547   \n",
       "\n",
       "        payment_type  \n",
       "count       29237237  \n",
       "unique             5  \n",
       "top                1  \n",
       "freq        19845082  "
      ]
     },
     "execution_count": 36,
     "metadata": {},
     "output_type": "execute_result"
    }
   ],
   "source": [
    "cat_features.describe()"
   ]
  },
  {
   "cell_type": "markdown",
   "id": "641a8066",
   "metadata": {},
   "source": [
    "We have several category columns here. Let's describe each one of them."
   ]
  },
  {
   "cell_type": "markdown",
   "id": "55ac4f7f",
   "metadata": {},
   "source": [
    "- **VendorID**\n",
    "    - It describes provider of the record. Seem to be balanced, since almost half of the records are for each provider"
   ]
  },
  {
   "cell_type": "code",
   "execution_count": 37,
   "id": "085297a9",
   "metadata": {},
   "outputs": [
    {
     "data": {
      "text/plain": [
       "<AxesSubplot:title={'center':'VendorID'}>"
      ]
     },
     "execution_count": 37,
     "metadata": {},
     "output_type": "execute_result"
    },
    {
     "data": {
      "image/png": "[encoded data removed]",
      "text/plain": [
       "<Figure size 576x288 with 1 Axes>"
      ]
     },
     "metadata": {
      "needs_background": "light"
     },
     "output_type": "display_data"
    }
   ],
   "source": [
    "cat_features['VendorID'].value_counts().plot(kind='bar', title='VendorID', figsize=(8, 4))"
   ]
  },
  {
   "cell_type": "markdown",
   "id": "55c4b9bb",
   "metadata": {},
   "source": [
    "- **RatecodeID**\n",
    "    - It is very unbalanced. I think it also does not give important information as that information is already implicitly given by the amount of the fee. Still, I will keep this variable to study more about it.\n",
    "    "
   ]
  },
  {
   "cell_type": "code",
   "execution_count": 38,
   "id": "ae5e7fd7",
   "metadata": {},
   "outputs": [
    {
     "data": {
      "text/plain": [
       "<AxesSubplot:>"
      ]
     },
     "execution_count": 38,
     "metadata": {},
     "output_type": "execute_result"
    },
    {
     "data": {
      "image/png": "[encoded data removed]",
      "text/plain": [
       "<Figure size 576x288 with 1 Axes>"
      ]
     },
     "metadata": {
      "needs_background": "light"
     },
     "output_type": "display_data"
    }
   ],
   "source": [
    "cat_features['RatecodeID'].value_counts().plot(kind='bar', figsize=(8, 4))"
   ]
  },
  {
   "cell_type": "markdown",
   "id": "d58e6e2c",
   "metadata": {},
   "source": [
    "- **store_and_fwd_flag**\n",
    "    - This binary column tell us if the record was held in vehicle memory or not because it didn't have connection to the server. I don't think it will be relevant to the analysis but by the moment we will keep it to see if there is any correlation between it and the tip amount.\n",
    "    - Can be converted to 0/1 to represent true/false"
   ]
  },
  {
   "cell_type": "code",
   "execution_count": 39,
   "id": "be67f0ed",
   "metadata": {},
   "outputs": [
    {
     "data": {
      "text/plain": [
       "<AxesSubplot:>"
      ]
     },
     "execution_count": 39,
     "metadata": {},
     "output_type": "execute_result"
    },
    {
     "data": {
      "image/png": "[encoded data removed]",
      "text/plain": [
       "<Figure size 576x288 with 1 Axes>"
      ]
     },
     "metadata": {
      "needs_background": "light"
     },
     "output_type": "display_data"
    }
   ],
   "source": [
    "cat_features['store_and_fwd_flag'].value_counts().plot(kind='bar', figsize=(8,4))"
   ]
  },
  {
   "cell_type": "markdown",
   "id": "a2a82fd6",
   "metadata": {},
   "source": [
    "- **PULocationID** and **DOLocationID**\n",
    "    - They encode the location where the meter was engaged and disengaged. I also will skip using these columns because I think this information will be encoded in both the distance of the trip and the fare amount."
   ]
  },
  {
   "cell_type": "markdown",
   "id": "e2a45eb7",
   "metadata": {},
   "source": [
    "- **payment_type**\n",
    "    - Here I will take only the payments made by card. Since we are interesting in predicting the tip amount in the rides, we won't cover situations like disputes or rides with no charges. Also, in the case of payments done with cash, as indicated in the dictionary, these **don't include the tip** so we can't use it to predict it."
   ]
  },
  {
   "cell_type": "markdown",
   "id": "2ee74521",
   "metadata": {},
   "source": [
    "### Date Features"
   ]
  },
  {
   "cell_type": "code",
   "execution_count": 40,
   "id": "c7cf3132",
   "metadata": {},
   "outputs": [
    {
     "data": {
      "text/html": [
       "<div>\n",
       "<style scoped>\n",
       "    .dataframe tbody tr th:only-of-type {\n",
       "        vertical-align: middle;\n",
       "    }\n",
       "\n",
       "    .dataframe tbody tr th {\n",
       "        vertical-align: top;\n",
       "    }\n",
       "\n",
       "    .dataframe thead th {\n",
       "        text-align: right;\n",
       "    }\n",
       "</style>\n",
       "<table border=\"1\" class=\"dataframe\">\n",
       "  <thead>\n",
       "    <tr style=\"text-align: right;\">\n",
       "      <th></th>\n",
       "      <th>tpep_pickup_datetime</th>\n",
       "      <th>tpep_dropoff_datetime</th>\n",
       "    </tr>\n",
       "  </thead>\n",
       "  <tbody>\n",
       "    <tr>\n",
       "      <th>count</th>\n",
       "      <td>29237237</td>\n",
       "      <td>29237237</td>\n",
       "    </tr>\n",
       "    <tr>\n",
       "      <th>mean</th>\n",
       "      <td>2017-07-02 02:51:06.465801472</td>\n",
       "      <td>2017-07-02 03:08:01.657239808</td>\n",
       "    </tr>\n",
       "    <tr>\n",
       "      <th>min</th>\n",
       "      <td>2001-01-01 00:04:13</td>\n",
       "      <td>2001-01-01 00:04:51</td>\n",
       "    </tr>\n",
       "    <tr>\n",
       "      <th>25%</th>\n",
       "      <td>2017-03-23 06:51:01</td>\n",
       "      <td>2017-03-23 07:03:01</td>\n",
       "    </tr>\n",
       "    <tr>\n",
       "      <th>50%</th>\n",
       "      <td>2017-06-14 07:50:54</td>\n",
       "      <td>2017-06-14 08:04:34</td>\n",
       "    </tr>\n",
       "    <tr>\n",
       "      <th>75%</th>\n",
       "      <td>2017-11-07 05:26:07</td>\n",
       "      <td>2017-11-07 05:44:52</td>\n",
       "    </tr>\n",
       "    <tr>\n",
       "      <th>max</th>\n",
       "      <td>2041-11-15 02:57:16</td>\n",
       "      <td>2041-11-15 03:12:19</td>\n",
       "    </tr>\n",
       "  </tbody>\n",
       "</table>\n",
       "</div>"
      ],
      "text/plain": [
       "                tpep_pickup_datetime          tpep_dropoff_datetime\n",
       "count                       29237237                       29237237\n",
       "mean   2017-07-02 02:51:06.465801472  2017-07-02 03:08:01.657239808\n",
       "min              2001-01-01 00:04:13            2001-01-01 00:04:51\n",
       "25%              2017-03-23 06:51:01            2017-03-23 07:03:01\n",
       "50%              2017-06-14 07:50:54            2017-06-14 08:04:34\n",
       "75%              2017-11-07 05:26:07            2017-11-07 05:44:52\n",
       "max              2041-11-15 02:57:16            2041-11-15 03:12:19"
      ]
     },
     "execution_count": 40,
     "metadata": {},
     "output_type": "execute_result"
    }
   ],
   "source": [
    "date_features.describe(datetime_is_numeric=True)"
   ]
  },
  {
   "cell_type": "markdown",
   "id": "a15d2062",
   "metadata": {},
   "source": [
    "By looking at the description of the *date features* we notice that we have information that is clearly wrong, for example having dates from 2041 or from 2001. We will select only records where months are March, June and November and year 2017"
   ]
  },
  {
   "cell_type": "code",
   "execution_count": 41,
   "id": "e0d82989",
   "metadata": {},
   "outputs": [],
   "source": [
    "data_clean = data_clean[(data_clean['tpep_pickup_datetime'].dt.month.isin([3, 6, 11])) & \n",
    "                        (data_clean['tpep_pickup_datetime'].dt.year == 2017)]"
   ]
  },
  {
   "cell_type": "markdown",
   "id": "353283fd",
   "metadata": {},
   "source": [
    "Now, we will create a new variable to encode the information in these two columns. I will create a ride_total_time variable which will be the time elapsed between the two dates in minutes."
   ]
  },
  {
   "cell_type": "code",
   "execution_count": 42,
   "id": "9a532459",
   "metadata": {},
   "outputs": [],
   "source": [
    "data_clean['trip_total_time'] = (data_clean['tpep_dropoff_datetime'] - data_clean['tpep_pickup_datetime']).astype('timedelta64[m]')"
   ]
  },
  {
   "cell_type": "markdown",
   "id": "8640d17b",
   "metadata": {},
   "source": [
    "After creating this new variable, I will print its description. There we find that there are negative ride times. This is because the disengagement date is happening before engagement date, which is not correct. We could revert these dates to solve the problem but since I'm not sure they are correct, I prefer to just delete these records. Also I will delete records with ride_total_time equal to 0, because to me, these might be errors."
   ]
  },
  {
   "cell_type": "code",
   "execution_count": 43,
   "id": "f6dc3159",
   "metadata": {},
   "outputs": [
    {
     "data": {
      "text/plain": [
       "count    2.649084e+07\n",
       "mean     1.402521e+01\n",
       "std      1.572351e+02\n",
       "min     -6.000000e+01\n",
       "25%      6.000000e+00\n",
       "50%      1.000000e+01\n",
       "75%      1.600000e+01\n",
       "max      7.577710e+05\n",
       "Name: trip_total_time, dtype: float64"
      ]
     },
     "execution_count": 43,
     "metadata": {},
     "output_type": "execute_result"
    }
   ],
   "source": [
    "data_clean['trip_total_time'].describe()"
   ]
  },
  {
   "cell_type": "code",
   "execution_count": 44,
   "id": "6a0d4157",
   "metadata": {},
   "outputs": [],
   "source": [
    "data_clean = data_clean[data_clean['trip_total_time'] > 0]"
   ]
  },
  {
   "cell_type": "markdown",
   "id": "122fa5dd",
   "metadata": {},
   "source": [
    "Finally I will also delete outliers by using the IQR method, since it's possible that really long times are errors."
   ]
  },
  {
   "cell_type": "code",
   "execution_count": 45,
   "id": "9d76d232",
   "metadata": {},
   "outputs": [],
   "source": [
    "data_clean = delete_outliers(data_clean, 'trip_total_time')"
   ]
  },
  {
   "cell_type": "code",
   "execution_count": 46,
   "id": "003e8fb4",
   "metadata": {},
   "outputs": [
    {
     "data": {
      "text/plain": [
       "(26337820, 18)"
      ]
     },
     "execution_count": 46,
     "metadata": {},
     "output_type": "execute_result"
    }
   ],
   "source": [
    "data_clean.shape"
   ]
  },
  {
   "cell_type": "code",
   "execution_count": 47,
   "id": "0bb85e3e",
   "metadata": {},
   "outputs": [
    {
     "data": {
      "text/html": [
       "<div>\n",
       "<style scoped>\n",
       "    .dataframe tbody tr th:only-of-type {\n",
       "        vertical-align: middle;\n",
       "    }\n",
       "\n",
       "    .dataframe tbody tr th {\n",
       "        vertical-align: top;\n",
       "    }\n",
       "\n",
       "    .dataframe thead th {\n",
       "        text-align: right;\n",
       "    }\n",
       "</style>\n",
       "<table border=\"1\" class=\"dataframe\">\n",
       "  <thead>\n",
       "    <tr style=\"text-align: right;\">\n",
       "      <th></th>\n",
       "      <th>VendorID</th>\n",
       "      <th>tpep_pickup_datetime</th>\n",
       "      <th>tpep_dropoff_datetime</th>\n",
       "      <th>passenger_count</th>\n",
       "      <th>trip_distance</th>\n",
       "      <th>RatecodeID</th>\n",
       "      <th>store_and_fwd_flag</th>\n",
       "      <th>PULocationID</th>\n",
       "      <th>DOLocationID</th>\n",
       "      <th>payment_type</th>\n",
       "      <th>fare_amount</th>\n",
       "      <th>extra</th>\n",
       "      <th>mta_tax</th>\n",
       "      <th>tip_amount</th>\n",
       "      <th>tolls_amount</th>\n",
       "      <th>improvement_surcharge</th>\n",
       "      <th>total_amount</th>\n",
       "      <th>trip_total_time</th>\n",
       "    </tr>\n",
       "  </thead>\n",
       "  <tbody>\n",
       "    <tr>\n",
       "      <th>1</th>\n",
       "      <td>1</td>\n",
       "      <td>2017-03-01 00:25:01</td>\n",
       "      <td>2017-03-01 00:31:36</td>\n",
       "      <td>1</td>\n",
       "      <td>1.4</td>\n",
       "      <td>1</td>\n",
       "      <td>N</td>\n",
       "      <td>239</td>\n",
       "      <td>262</td>\n",
       "      <td>1</td>\n",
       "      <td>7.5</td>\n",
       "      <td>0.5</td>\n",
       "      <td>0.5</td>\n",
       "      <td>1.75</td>\n",
       "      <td>0.0</td>\n",
       "      <td>0.3</td>\n",
       "      <td>10.55</td>\n",
       "      <td>6.0</td>\n",
       "    </tr>\n",
       "    <tr>\n",
       "      <th>10</th>\n",
       "      <td>1</td>\n",
       "      <td>2017-03-01 00:40:20</td>\n",
       "      <td>2017-03-01 00:49:02</td>\n",
       "      <td>1</td>\n",
       "      <td>1.9</td>\n",
       "      <td>1</td>\n",
       "      <td>N</td>\n",
       "      <td>95</td>\n",
       "      <td>28</td>\n",
       "      <td>1</td>\n",
       "      <td>8.5</td>\n",
       "      <td>0.5</td>\n",
       "      <td>0.5</td>\n",
       "      <td>1.96</td>\n",
       "      <td>0.0</td>\n",
       "      <td>0.3</td>\n",
       "      <td>11.76</td>\n",
       "      <td>8.0</td>\n",
       "    </tr>\n",
       "    <tr>\n",
       "      <th>11</th>\n",
       "      <td>1</td>\n",
       "      <td>2017-03-01 00:34:00</td>\n",
       "      <td>2017-03-01 01:02:27</td>\n",
       "      <td>1</td>\n",
       "      <td>6.9</td>\n",
       "      <td>1</td>\n",
       "      <td>N</td>\n",
       "      <td>48</td>\n",
       "      <td>223</td>\n",
       "      <td>1</td>\n",
       "      <td>25.0</td>\n",
       "      <td>0.5</td>\n",
       "      <td>0.5</td>\n",
       "      <td>5.25</td>\n",
       "      <td>0.0</td>\n",
       "      <td>0.3</td>\n",
       "      <td>31.55</td>\n",
       "      <td>28.0</td>\n",
       "    </tr>\n",
       "    <tr>\n",
       "      <th>12</th>\n",
       "      <td>1</td>\n",
       "      <td>2017-03-01 00:25:51</td>\n",
       "      <td>2017-03-01 00:28:14</td>\n",
       "      <td>1</td>\n",
       "      <td>0.3</td>\n",
       "      <td>1</td>\n",
       "      <td>N</td>\n",
       "      <td>90</td>\n",
       "      <td>68</td>\n",
       "      <td>2</td>\n",
       "      <td>3.5</td>\n",
       "      <td>0.5</td>\n",
       "      <td>0.5</td>\n",
       "      <td>0.00</td>\n",
       "      <td>0.0</td>\n",
       "      <td>0.3</td>\n",
       "      <td>4.80</td>\n",
       "      <td>2.0</td>\n",
       "    </tr>\n",
       "    <tr>\n",
       "      <th>13</th>\n",
       "      <td>1</td>\n",
       "      <td>2017-03-01 00:17:46</td>\n",
       "      <td>2017-03-01 00:32:58</td>\n",
       "      <td>1</td>\n",
       "      <td>4.2</td>\n",
       "      <td>1</td>\n",
       "      <td>N</td>\n",
       "      <td>142</td>\n",
       "      <td>79</td>\n",
       "      <td>1</td>\n",
       "      <td>15.0</td>\n",
       "      <td>0.5</td>\n",
       "      <td>0.5</td>\n",
       "      <td>2.20</td>\n",
       "      <td>0.0</td>\n",
       "      <td>0.3</td>\n",
       "      <td>18.50</td>\n",
       "      <td>15.0</td>\n",
       "    </tr>\n",
       "  </tbody>\n",
       "</table>\n",
       "</div>"
      ],
      "text/plain": [
       "   VendorID tpep_pickup_datetime tpep_dropoff_datetime  passenger_count  \\\n",
       "1         1  2017-03-01 00:25:01   2017-03-01 00:31:36                1   \n",
       "10        1  2017-03-01 00:40:20   2017-03-01 00:49:02                1   \n",
       "11        1  2017-03-01 00:34:00   2017-03-01 01:02:27                1   \n",
       "12        1  2017-03-01 00:25:51   2017-03-01 00:28:14                1   \n",
       "13        1  2017-03-01 00:17:46   2017-03-01 00:32:58                1   \n",
       "\n",
       "    trip_distance RatecodeID store_and_fwd_flag PULocationID DOLocationID  \\\n",
       "1             1.4          1                  N          239          262   \n",
       "10            1.9          1                  N           95           28   \n",
       "11            6.9          1                  N           48          223   \n",
       "12            0.3          1                  N           90           68   \n",
       "13            4.2          1                  N          142           79   \n",
       "\n",
       "   payment_type  fare_amount  extra  mta_tax  tip_amount  tolls_amount  \\\n",
       "1             1          7.5    0.5      0.5        1.75           0.0   \n",
       "10            1          8.5    0.5      0.5        1.96           0.0   \n",
       "11            1         25.0    0.5      0.5        5.25           0.0   \n",
       "12            2          3.5    0.5      0.5        0.00           0.0   \n",
       "13            1         15.0    0.5      0.5        2.20           0.0   \n",
       "\n",
       "    improvement_surcharge  total_amount  trip_total_time  \n",
       "1                     0.3         10.55              6.0  \n",
       "10                    0.3         11.76              8.0  \n",
       "11                    0.3         31.55             28.0  \n",
       "12                    0.3          4.80              2.0  \n",
       "13                    0.3         18.50             15.0  "
      ]
     },
     "execution_count": 47,
     "metadata": {},
     "output_type": "execute_result"
    }
   ],
   "source": [
    "data_clean.head()"
   ]
  },
  {
   "cell_type": "code",
   "execution_count": null,
   "id": "85b322e6",
   "metadata": {},
   "outputs": [],
   "source": []
  },
  {
   "cell_type": "markdown",
   "id": "51343e64",
   "metadata": {},
   "source": [
    "Now I will like to see some plots from the data. In the first place, let's see a correlation plot to see which features are correlated."
   ]
  },
  {
   "cell_type": "code",
   "execution_count": 48,
   "id": "988be833",
   "metadata": {},
   "outputs": [
    {
     "name": "stderr",
     "output_type": "stream",
     "text": [
      "/usr/local/lib/python3.9/site-packages/pandas/io/formats/style.py:1126: RuntimeWarning: All-NaN slice encountered\n",
      "  smin = np.nanmin(s.to_numpy()) if vmin is None else vmin\n",
      "/usr/local/lib/python3.9/site-packages/pandas/io/formats/style.py:1127: RuntimeWarning: All-NaN slice encountered\n",
      "  smax = np.nanmax(s.to_numpy()) if vmax is None else vmax\n"
     ]
    },
    {
     "data": {
      "text/html": [
       "<style  type=\"text/css\" >\n",
       "#T_7667c1f6_f238_11ec_aa47_c4b301be4cc1row0_col0,#T_7667c1f6_f238_11ec_aa47_c4b301be4cc1row1_col1,#T_7667c1f6_f238_11ec_aa47_c4b301be4cc1row2_col2,#T_7667c1f6_f238_11ec_aa47_c4b301be4cc1row3_col3,#T_7667c1f6_f238_11ec_aa47_c4b301be4cc1row5_col5,#T_7667c1f6_f238_11ec_aa47_c4b301be4cc1row7_col7,#T_7667c1f6_f238_11ec_aa47_c4b301be4cc1row8_col8,#T_7667c1f6_f238_11ec_aa47_c4b301be4cc1row9_col9{\n",
       "            background-color:  #b40426;\n",
       "            color:  #f1f1f1;\n",
       "        }#T_7667c1f6_f238_11ec_aa47_c4b301be4cc1row0_col1,#T_7667c1f6_f238_11ec_aa47_c4b301be4cc1row0_col2,#T_7667c1f6_f238_11ec_aa47_c4b301be4cc1row0_col3,#T_7667c1f6_f238_11ec_aa47_c4b301be4cc1row3_col2,#T_7667c1f6_f238_11ec_aa47_c4b301be4cc1row7_col0,#T_7667c1f6_f238_11ec_aa47_c4b301be4cc1row7_col5{\n",
       "            background-color:  #3d50c3;\n",
       "            color:  #f1f1f1;\n",
       "        }#T_7667c1f6_f238_11ec_aa47_c4b301be4cc1row0_col4,#T_7667c1f6_f238_11ec_aa47_c4b301be4cc1row0_col6,#T_7667c1f6_f238_11ec_aa47_c4b301be4cc1row1_col4,#T_7667c1f6_f238_11ec_aa47_c4b301be4cc1row1_col6,#T_7667c1f6_f238_11ec_aa47_c4b301be4cc1row2_col4,#T_7667c1f6_f238_11ec_aa47_c4b301be4cc1row2_col6,#T_7667c1f6_f238_11ec_aa47_c4b301be4cc1row3_col4,#T_7667c1f6_f238_11ec_aa47_c4b301be4cc1row3_col6,#T_7667c1f6_f238_11ec_aa47_c4b301be4cc1row4_col0,#T_7667c1f6_f238_11ec_aa47_c4b301be4cc1row4_col1,#T_7667c1f6_f238_11ec_aa47_c4b301be4cc1row4_col2,#T_7667c1f6_f238_11ec_aa47_c4b301be4cc1row4_col3,#T_7667c1f6_f238_11ec_aa47_c4b301be4cc1row4_col4,#T_7667c1f6_f238_11ec_aa47_c4b301be4cc1row4_col5,#T_7667c1f6_f238_11ec_aa47_c4b301be4cc1row4_col6,#T_7667c1f6_f238_11ec_aa47_c4b301be4cc1row4_col7,#T_7667c1f6_f238_11ec_aa47_c4b301be4cc1row4_col8,#T_7667c1f6_f238_11ec_aa47_c4b301be4cc1row4_col9,#T_7667c1f6_f238_11ec_aa47_c4b301be4cc1row5_col4,#T_7667c1f6_f238_11ec_aa47_c4b301be4cc1row5_col6,#T_7667c1f6_f238_11ec_aa47_c4b301be4cc1row6_col0,#T_7667c1f6_f238_11ec_aa47_c4b301be4cc1row6_col1,#T_7667c1f6_f238_11ec_aa47_c4b301be4cc1row6_col2,#T_7667c1f6_f238_11ec_aa47_c4b301be4cc1row6_col3,#T_7667c1f6_f238_11ec_aa47_c4b301be4cc1row6_col4,#T_7667c1f6_f238_11ec_aa47_c4b301be4cc1row6_col5,#T_7667c1f6_f238_11ec_aa47_c4b301be4cc1row6_col6,#T_7667c1f6_f238_11ec_aa47_c4b301be4cc1row6_col7,#T_7667c1f6_f238_11ec_aa47_c4b301be4cc1row6_col8,#T_7667c1f6_f238_11ec_aa47_c4b301be4cc1row6_col9,#T_7667c1f6_f238_11ec_aa47_c4b301be4cc1row7_col4,#T_7667c1f6_f238_11ec_aa47_c4b301be4cc1row7_col6,#T_7667c1f6_f238_11ec_aa47_c4b301be4cc1row8_col4,#T_7667c1f6_f238_11ec_aa47_c4b301be4cc1row8_col6,#T_7667c1f6_f238_11ec_aa47_c4b301be4cc1row9_col4,#T_7667c1f6_f238_11ec_aa47_c4b301be4cc1row9_col6{\n",
       "            background-color:  #000000;\n",
       "            color:  #f1f1f1;\n",
       "        }#T_7667c1f6_f238_11ec_aa47_c4b301be4cc1row0_col5,#T_7667c1f6_f238_11ec_aa47_c4b301be4cc1row0_col7,#T_7667c1f6_f238_11ec_aa47_c4b301be4cc1row1_col7,#T_7667c1f6_f238_11ec_aa47_c4b301be4cc1row2_col7,#T_7667c1f6_f238_11ec_aa47_c4b301be4cc1row3_col7,#T_7667c1f6_f238_11ec_aa47_c4b301be4cc1row3_col9,#T_7667c1f6_f238_11ec_aa47_c4b301be4cc1row5_col0,#T_7667c1f6_f238_11ec_aa47_c4b301be4cc1row5_col7,#T_7667c1f6_f238_11ec_aa47_c4b301be4cc1row7_col1,#T_7667c1f6_f238_11ec_aa47_c4b301be4cc1row7_col2,#T_7667c1f6_f238_11ec_aa47_c4b301be4cc1row7_col8,#T_7667c1f6_f238_11ec_aa47_c4b301be4cc1row8_col7,#T_7667c1f6_f238_11ec_aa47_c4b301be4cc1row9_col3,#T_7667c1f6_f238_11ec_aa47_c4b301be4cc1row9_col7{\n",
       "            background-color:  #3b4cc0;\n",
       "            color:  #f1f1f1;\n",
       "        }#T_7667c1f6_f238_11ec_aa47_c4b301be4cc1row0_col8,#T_7667c1f6_f238_11ec_aa47_c4b301be4cc1row7_col3,#T_7667c1f6_f238_11ec_aa47_c4b301be4cc1row7_col9{\n",
       "            background-color:  #3c4ec2;\n",
       "            color:  #f1f1f1;\n",
       "        }#T_7667c1f6_f238_11ec_aa47_c4b301be4cc1row0_col9,#T_7667c1f6_f238_11ec_aa47_c4b301be4cc1row2_col0,#T_7667c1f6_f238_11ec_aa47_c4b301be4cc1row2_col3,#T_7667c1f6_f238_11ec_aa47_c4b301be4cc1row9_col0{\n",
       "            background-color:  #3f53c6;\n",
       "            color:  #f1f1f1;\n",
       "        }#T_7667c1f6_f238_11ec_aa47_c4b301be4cc1row1_col0{\n",
       "            background-color:  #4055c8;\n",
       "            color:  #f1f1f1;\n",
       "        }#T_7667c1f6_f238_11ec_aa47_c4b301be4cc1row1_col2,#T_7667c1f6_f238_11ec_aa47_c4b301be4cc1row2_col1,#T_7667c1f6_f238_11ec_aa47_c4b301be4cc1row8_col9,#T_7667c1f6_f238_11ec_aa47_c4b301be4cc1row9_col8{\n",
       "            background-color:  #d44e41;\n",
       "            color:  #000000;\n",
       "        }#T_7667c1f6_f238_11ec_aa47_c4b301be4cc1row1_col3{\n",
       "            background-color:  #4a63d3;\n",
       "            color:  #f1f1f1;\n",
       "        }#T_7667c1f6_f238_11ec_aa47_c4b301be4cc1row1_col5{\n",
       "            background-color:  #cad8ef;\n",
       "            color:  #000000;\n",
       "        }#T_7667c1f6_f238_11ec_aa47_c4b301be4cc1row1_col8,#T_7667c1f6_f238_11ec_aa47_c4b301be4cc1row8_col1{\n",
       "            background-color:  #d85646;\n",
       "            color:  #000000;\n",
       "        }#T_7667c1f6_f238_11ec_aa47_c4b301be4cc1row1_col9{\n",
       "            background-color:  #f7a688;\n",
       "            color:  #000000;\n",
       "        }#T_7667c1f6_f238_11ec_aa47_c4b301be4cc1row2_col5{\n",
       "            background-color:  #d5dbe5;\n",
       "            color:  #000000;\n",
       "        }#T_7667c1f6_f238_11ec_aa47_c4b301be4cc1row2_col8,#T_7667c1f6_f238_11ec_aa47_c4b301be4cc1row8_col2{\n",
       "            background-color:  #bd1f2d;\n",
       "            color:  #f1f1f1;\n",
       "        }#T_7667c1f6_f238_11ec_aa47_c4b301be4cc1row2_col9,#T_7667c1f6_f238_11ec_aa47_c4b301be4cc1row9_col2{\n",
       "            background-color:  #cc403a;\n",
       "            color:  #f1f1f1;\n",
       "        }#T_7667c1f6_f238_11ec_aa47_c4b301be4cc1row3_col0,#T_7667c1f6_f238_11ec_aa47_c4b301be4cc1row8_col0{\n",
       "            background-color:  #3e51c5;\n",
       "            color:  #f1f1f1;\n",
       "        }#T_7667c1f6_f238_11ec_aa47_c4b301be4cc1row3_col1{\n",
       "            background-color:  #485fd1;\n",
       "            color:  #f1f1f1;\n",
       "        }#T_7667c1f6_f238_11ec_aa47_c4b301be4cc1row3_col5,#T_7667c1f6_f238_11ec_aa47_c4b301be4cc1row5_col3{\n",
       "            background-color:  #4c66d6;\n",
       "            color:  #000000;\n",
       "        }#T_7667c1f6_f238_11ec_aa47_c4b301be4cc1row3_col8{\n",
       "            background-color:  #5470de;\n",
       "            color:  #000000;\n",
       "        }#T_7667c1f6_f238_11ec_aa47_c4b301be4cc1row5_col1{\n",
       "            background-color:  #c9d7f0;\n",
       "            color:  #000000;\n",
       "        }#T_7667c1f6_f238_11ec_aa47_c4b301be4cc1row5_col2{\n",
       "            background-color:  #d4dbe6;\n",
       "            color:  #000000;\n",
       "        }#T_7667c1f6_f238_11ec_aa47_c4b301be4cc1row5_col8{\n",
       "            background-color:  #f5c0a7;\n",
       "            color:  #000000;\n",
       "        }#T_7667c1f6_f238_11ec_aa47_c4b301be4cc1row5_col9,#T_7667c1f6_f238_11ec_aa47_c4b301be4cc1row9_col5{\n",
       "            background-color:  #cbd8ee;\n",
       "            color:  #000000;\n",
       "        }#T_7667c1f6_f238_11ec_aa47_c4b301be4cc1row8_col3{\n",
       "            background-color:  #5572df;\n",
       "            color:  #000000;\n",
       "        }#T_7667c1f6_f238_11ec_aa47_c4b301be4cc1row8_col5{\n",
       "            background-color:  #f6bfa6;\n",
       "            color:  #000000;\n",
       "        }#T_7667c1f6_f238_11ec_aa47_c4b301be4cc1row9_col1{\n",
       "            background-color:  #f7a889;\n",
       "            color:  #000000;\n",
       "        }</style><table id=\"T_7667c1f6_f238_11ec_aa47_c4b301be4cc1\" ><thead>    <tr>        <th class=\"blank level0\" ></th>        <th class=\"col_heading level0 col0\" >passenger_count</th>        <th class=\"col_heading level0 col1\" >trip_distance</th>        <th class=\"col_heading level0 col2\" >fare_amount</th>        <th class=\"col_heading level0 col3\" >extra</th>        <th class=\"col_heading level0 col4\" >mta_tax</th>        <th class=\"col_heading level0 col5\" >tip_amount</th>        <th class=\"col_heading level0 col6\" >tolls_amount</th>        <th class=\"col_heading level0 col7\" >improvement_surcharge</th>        <th class=\"col_heading level0 col8\" >total_amount</th>        <th class=\"col_heading level0 col9\" >trip_total_time</th>    </tr></thead><tbody>\n",
       "                <tr>\n",
       "                        <th id=\"T_7667c1f6_f238_11ec_aa47_c4b301be4cc1level0_row0\" class=\"row_heading level0 row0\" >passenger_count</th>\n",
       "                        <td id=\"T_7667c1f6_f238_11ec_aa47_c4b301be4cc1row0_col0\" class=\"data row0 col0\" >1.000000</td>\n",
       "                        <td id=\"T_7667c1f6_f238_11ec_aa47_c4b301be4cc1row0_col1\" class=\"data row0 col1\" >0.010742</td>\n",
       "                        <td id=\"T_7667c1f6_f238_11ec_aa47_c4b301be4cc1row0_col2\" class=\"data row0 col2\" >0.008569</td>\n",
       "                        <td id=\"T_7667c1f6_f238_11ec_aa47_c4b301be4cc1row0_col3\" class=\"data row0 col3\" >0.002892</td>\n",
       "                        <td id=\"T_7667c1f6_f238_11ec_aa47_c4b301be4cc1row0_col4\" class=\"data row0 col4\" >nan</td>\n",
       "                        <td id=\"T_7667c1f6_f238_11ec_aa47_c4b301be4cc1row0_col5\" class=\"data row0 col5\" >-0.008967</td>\n",
       "                        <td id=\"T_7667c1f6_f238_11ec_aa47_c4b301be4cc1row0_col6\" class=\"data row0 col6\" >nan</td>\n",
       "                        <td id=\"T_7667c1f6_f238_11ec_aa47_c4b301be4cc1row0_col7\" class=\"data row0 col7\" >0.000000</td>\n",
       "                        <td id=\"T_7667c1f6_f238_11ec_aa47_c4b301be4cc1row0_col8\" class=\"data row0 col8\" >0.005665</td>\n",
       "                        <td id=\"T_7667c1f6_f238_11ec_aa47_c4b301be4cc1row0_col9\" class=\"data row0 col9\" >0.008552</td>\n",
       "            </tr>\n",
       "            <tr>\n",
       "                        <th id=\"T_7667c1f6_f238_11ec_aa47_c4b301be4cc1level0_row1\" class=\"row_heading level0 row1\" >trip_distance</th>\n",
       "                        <td id=\"T_7667c1f6_f238_11ec_aa47_c4b301be4cc1row1_col0\" class=\"data row1 col0\" >0.010742</td>\n",
       "                        <td id=\"T_7667c1f6_f238_11ec_aa47_c4b301be4cc1row1_col1\" class=\"data row1 col1\" >1.000000</td>\n",
       "                        <td id=\"T_7667c1f6_f238_11ec_aa47_c4b301be4cc1row1_col2\" class=\"data row1 col2\" >0.909974</td>\n",
       "                        <td id=\"T_7667c1f6_f238_11ec_aa47_c4b301be4cc1row1_col3\" class=\"data row1 col3\" >0.045156</td>\n",
       "                        <td id=\"T_7667c1f6_f238_11ec_aa47_c4b301be4cc1row1_col4\" class=\"data row1 col4\" >nan</td>\n",
       "                        <td id=\"T_7667c1f6_f238_11ec_aa47_c4b301be4cc1row1_col5\" class=\"data row1 col5\" >0.427632</td>\n",
       "                        <td id=\"T_7667c1f6_f238_11ec_aa47_c4b301be4cc1row1_col6\" class=\"data row1 col6\" >nan</td>\n",
       "                        <td id=\"T_7667c1f6_f238_11ec_aa47_c4b301be4cc1row1_col7\" class=\"data row1 col7\" >0.000000</td>\n",
       "                        <td id=\"T_7667c1f6_f238_11ec_aa47_c4b301be4cc1row1_col8\" class=\"data row1 col8\" >0.891165</td>\n",
       "                        <td id=\"T_7667c1f6_f238_11ec_aa47_c4b301be4cc1row1_col9\" class=\"data row1 col9\" >0.713371</td>\n",
       "            </tr>\n",
       "            <tr>\n",
       "                        <th id=\"T_7667c1f6_f238_11ec_aa47_c4b301be4cc1level0_row2\" class=\"row_heading level0 row2\" >fare_amount</th>\n",
       "                        <td id=\"T_7667c1f6_f238_11ec_aa47_c4b301be4cc1row2_col0\" class=\"data row2 col0\" >0.008569</td>\n",
       "                        <td id=\"T_7667c1f6_f238_11ec_aa47_c4b301be4cc1row2_col1\" class=\"data row2 col1\" >0.909974</td>\n",
       "                        <td id=\"T_7667c1f6_f238_11ec_aa47_c4b301be4cc1row2_col2\" class=\"data row2 col2\" >1.000000</td>\n",
       "                        <td id=\"T_7667c1f6_f238_11ec_aa47_c4b301be4cc1row2_col3\" class=\"data row2 col3\" >0.011356</td>\n",
       "                        <td id=\"T_7667c1f6_f238_11ec_aa47_c4b301be4cc1row2_col4\" class=\"data row2 col4\" >nan</td>\n",
       "                        <td id=\"T_7667c1f6_f238_11ec_aa47_c4b301be4cc1row2_col5\" class=\"data row2 col5\" >0.465105</td>\n",
       "                        <td id=\"T_7667c1f6_f238_11ec_aa47_c4b301be4cc1row2_col6\" class=\"data row2 col6\" >nan</td>\n",
       "                        <td id=\"T_7667c1f6_f238_11ec_aa47_c4b301be4cc1row2_col7\" class=\"data row2 col7\" >0.000000</td>\n",
       "                        <td id=\"T_7667c1f6_f238_11ec_aa47_c4b301be4cc1row2_col8\" class=\"data row2 col8\" >0.975863</td>\n",
       "                        <td id=\"T_7667c1f6_f238_11ec_aa47_c4b301be4cc1row2_col9\" class=\"data row2 col9\" >0.932468</td>\n",
       "            </tr>\n",
       "            <tr>\n",
       "                        <th id=\"T_7667c1f6_f238_11ec_aa47_c4b301be4cc1level0_row3\" class=\"row_heading level0 row3\" >extra</th>\n",
       "                        <td id=\"T_7667c1f6_f238_11ec_aa47_c4b301be4cc1row3_col0\" class=\"data row3 col0\" >0.002892</td>\n",
       "                        <td id=\"T_7667c1f6_f238_11ec_aa47_c4b301be4cc1row3_col1\" class=\"data row3 col1\" >0.045156</td>\n",
       "                        <td id=\"T_7667c1f6_f238_11ec_aa47_c4b301be4cc1row3_col2\" class=\"data row3 col2\" >0.011356</td>\n",
       "                        <td id=\"T_7667c1f6_f238_11ec_aa47_c4b301be4cc1row3_col3\" class=\"data row3 col3\" >1.000000</td>\n",
       "                        <td id=\"T_7667c1f6_f238_11ec_aa47_c4b301be4cc1row3_col4\" class=\"data row3 col4\" >nan</td>\n",
       "                        <td id=\"T_7667c1f6_f238_11ec_aa47_c4b301be4cc1row3_col5\" class=\"data row3 col5\" >0.052818</td>\n",
       "                        <td id=\"T_7667c1f6_f238_11ec_aa47_c4b301be4cc1row3_col6\" class=\"data row3 col6\" >nan</td>\n",
       "                        <td id=\"T_7667c1f6_f238_11ec_aa47_c4b301be4cc1row3_col7\" class=\"data row3 col7\" >-0.000000</td>\n",
       "                        <td id=\"T_7667c1f6_f238_11ec_aa47_c4b301be4cc1row3_col8\" class=\"data row3 col8\" >0.082552</td>\n",
       "                        <td id=\"T_7667c1f6_f238_11ec_aa47_c4b301be4cc1row3_col9\" class=\"data row3 col9\" >-0.007336</td>\n",
       "            </tr>\n",
       "            <tr>\n",
       "                        <th id=\"T_7667c1f6_f238_11ec_aa47_c4b301be4cc1level0_row4\" class=\"row_heading level0 row4\" >mta_tax</th>\n",
       "                        <td id=\"T_7667c1f6_f238_11ec_aa47_c4b301be4cc1row4_col0\" class=\"data row4 col0\" >nan</td>\n",
       "                        <td id=\"T_7667c1f6_f238_11ec_aa47_c4b301be4cc1row4_col1\" class=\"data row4 col1\" >nan</td>\n",
       "                        <td id=\"T_7667c1f6_f238_11ec_aa47_c4b301be4cc1row4_col2\" class=\"data row4 col2\" >nan</td>\n",
       "                        <td id=\"T_7667c1f6_f238_11ec_aa47_c4b301be4cc1row4_col3\" class=\"data row4 col3\" >nan</td>\n",
       "                        <td id=\"T_7667c1f6_f238_11ec_aa47_c4b301be4cc1row4_col4\" class=\"data row4 col4\" >nan</td>\n",
       "                        <td id=\"T_7667c1f6_f238_11ec_aa47_c4b301be4cc1row4_col5\" class=\"data row4 col5\" >nan</td>\n",
       "                        <td id=\"T_7667c1f6_f238_11ec_aa47_c4b301be4cc1row4_col6\" class=\"data row4 col6\" >nan</td>\n",
       "                        <td id=\"T_7667c1f6_f238_11ec_aa47_c4b301be4cc1row4_col7\" class=\"data row4 col7\" >nan</td>\n",
       "                        <td id=\"T_7667c1f6_f238_11ec_aa47_c4b301be4cc1row4_col8\" class=\"data row4 col8\" >nan</td>\n",
       "                        <td id=\"T_7667c1f6_f238_11ec_aa47_c4b301be4cc1row4_col9\" class=\"data row4 col9\" >nan</td>\n",
       "            </tr>\n",
       "            <tr>\n",
       "                        <th id=\"T_7667c1f6_f238_11ec_aa47_c4b301be4cc1level0_row5\" class=\"row_heading level0 row5\" >tip_amount</th>\n",
       "                        <td id=\"T_7667c1f6_f238_11ec_aa47_c4b301be4cc1row5_col0\" class=\"data row5 col0\" >-0.008967</td>\n",
       "                        <td id=\"T_7667c1f6_f238_11ec_aa47_c4b301be4cc1row5_col1\" class=\"data row5 col1\" >0.427632</td>\n",
       "                        <td id=\"T_7667c1f6_f238_11ec_aa47_c4b301be4cc1row5_col2\" class=\"data row5 col2\" >0.465105</td>\n",
       "                        <td id=\"T_7667c1f6_f238_11ec_aa47_c4b301be4cc1row5_col3\" class=\"data row5 col3\" >0.052818</td>\n",
       "                        <td id=\"T_7667c1f6_f238_11ec_aa47_c4b301be4cc1row5_col4\" class=\"data row5 col4\" >nan</td>\n",
       "                        <td id=\"T_7667c1f6_f238_11ec_aa47_c4b301be4cc1row5_col5\" class=\"data row5 col5\" >1.000000</td>\n",
       "                        <td id=\"T_7667c1f6_f238_11ec_aa47_c4b301be4cc1row5_col6\" class=\"data row5 col6\" >nan</td>\n",
       "                        <td id=\"T_7667c1f6_f238_11ec_aa47_c4b301be4cc1row5_col7\" class=\"data row5 col7\" >0.000000</td>\n",
       "                        <td id=\"T_7667c1f6_f238_11ec_aa47_c4b301be4cc1row5_col8\" class=\"data row5 col8\" >0.639180</td>\n",
       "                        <td id=\"T_7667c1f6_f238_11ec_aa47_c4b301be4cc1row5_col9\" class=\"data row5 col9\" >0.431799</td>\n",
       "            </tr>\n",
       "            <tr>\n",
       "                        <th id=\"T_7667c1f6_f238_11ec_aa47_c4b301be4cc1level0_row6\" class=\"row_heading level0 row6\" >tolls_amount</th>\n",
       "                        <td id=\"T_7667c1f6_f238_11ec_aa47_c4b301be4cc1row6_col0\" class=\"data row6 col0\" >nan</td>\n",
       "                        <td id=\"T_7667c1f6_f238_11ec_aa47_c4b301be4cc1row6_col1\" class=\"data row6 col1\" >nan</td>\n",
       "                        <td id=\"T_7667c1f6_f238_11ec_aa47_c4b301be4cc1row6_col2\" class=\"data row6 col2\" >nan</td>\n",
       "                        <td id=\"T_7667c1f6_f238_11ec_aa47_c4b301be4cc1row6_col3\" class=\"data row6 col3\" >nan</td>\n",
       "                        <td id=\"T_7667c1f6_f238_11ec_aa47_c4b301be4cc1row6_col4\" class=\"data row6 col4\" >nan</td>\n",
       "                        <td id=\"T_7667c1f6_f238_11ec_aa47_c4b301be4cc1row6_col5\" class=\"data row6 col5\" >nan</td>\n",
       "                        <td id=\"T_7667c1f6_f238_11ec_aa47_c4b301be4cc1row6_col6\" class=\"data row6 col6\" >nan</td>\n",
       "                        <td id=\"T_7667c1f6_f238_11ec_aa47_c4b301be4cc1row6_col7\" class=\"data row6 col7\" >nan</td>\n",
       "                        <td id=\"T_7667c1f6_f238_11ec_aa47_c4b301be4cc1row6_col8\" class=\"data row6 col8\" >nan</td>\n",
       "                        <td id=\"T_7667c1f6_f238_11ec_aa47_c4b301be4cc1row6_col9\" class=\"data row6 col9\" >nan</td>\n",
       "            </tr>\n",
       "            <tr>\n",
       "                        <th id=\"T_7667c1f6_f238_11ec_aa47_c4b301be4cc1level0_row7\" class=\"row_heading level0 row7\" >improvement_surcharge</th>\n",
       "                        <td id=\"T_7667c1f6_f238_11ec_aa47_c4b301be4cc1row7_col0\" class=\"data row7 col0\" >0.000000</td>\n",
       "                        <td id=\"T_7667c1f6_f238_11ec_aa47_c4b301be4cc1row7_col1\" class=\"data row7 col1\" >0.000000</td>\n",
       "                        <td id=\"T_7667c1f6_f238_11ec_aa47_c4b301be4cc1row7_col2\" class=\"data row7 col2\" >0.000000</td>\n",
       "                        <td id=\"T_7667c1f6_f238_11ec_aa47_c4b301be4cc1row7_col3\" class=\"data row7 col3\" >-0.000000</td>\n",
       "                        <td id=\"T_7667c1f6_f238_11ec_aa47_c4b301be4cc1row7_col4\" class=\"data row7 col4\" >nan</td>\n",
       "                        <td id=\"T_7667c1f6_f238_11ec_aa47_c4b301be4cc1row7_col5\" class=\"data row7 col5\" >0.000000</td>\n",
       "                        <td id=\"T_7667c1f6_f238_11ec_aa47_c4b301be4cc1row7_col6\" class=\"data row7 col6\" >nan</td>\n",
       "                        <td id=\"T_7667c1f6_f238_11ec_aa47_c4b301be4cc1row7_col7\" class=\"data row7 col7\" >1.000000</td>\n",
       "                        <td id=\"T_7667c1f6_f238_11ec_aa47_c4b301be4cc1row7_col8\" class=\"data row7 col8\" >-0.000000</td>\n",
       "                        <td id=\"T_7667c1f6_f238_11ec_aa47_c4b301be4cc1row7_col9\" class=\"data row7 col9\" >0.000000</td>\n",
       "            </tr>\n",
       "            <tr>\n",
       "                        <th id=\"T_7667c1f6_f238_11ec_aa47_c4b301be4cc1level0_row8\" class=\"row_heading level0 row8\" >total_amount</th>\n",
       "                        <td id=\"T_7667c1f6_f238_11ec_aa47_c4b301be4cc1row8_col0\" class=\"data row8 col0\" >0.005665</td>\n",
       "                        <td id=\"T_7667c1f6_f238_11ec_aa47_c4b301be4cc1row8_col1\" class=\"data row8 col1\" >0.891165</td>\n",
       "                        <td id=\"T_7667c1f6_f238_11ec_aa47_c4b301be4cc1row8_col2\" class=\"data row8 col2\" >0.975863</td>\n",
       "                        <td id=\"T_7667c1f6_f238_11ec_aa47_c4b301be4cc1row8_col3\" class=\"data row8 col3\" >0.082552</td>\n",
       "                        <td id=\"T_7667c1f6_f238_11ec_aa47_c4b301be4cc1row8_col4\" class=\"data row8 col4\" >nan</td>\n",
       "                        <td id=\"T_7667c1f6_f238_11ec_aa47_c4b301be4cc1row8_col5\" class=\"data row8 col5\" >0.639180</td>\n",
       "                        <td id=\"T_7667c1f6_f238_11ec_aa47_c4b301be4cc1row8_col6\" class=\"data row8 col6\" >nan</td>\n",
       "                        <td id=\"T_7667c1f6_f238_11ec_aa47_c4b301be4cc1row8_col7\" class=\"data row8 col7\" >-0.000000</td>\n",
       "                        <td id=\"T_7667c1f6_f238_11ec_aa47_c4b301be4cc1row8_col8\" class=\"data row8 col8\" >1.000000</td>\n",
       "                        <td id=\"T_7667c1f6_f238_11ec_aa47_c4b301be4cc1row8_col9\" class=\"data row8 col9\" >0.908421</td>\n",
       "            </tr>\n",
       "            <tr>\n",
       "                        <th id=\"T_7667c1f6_f238_11ec_aa47_c4b301be4cc1level0_row9\" class=\"row_heading level0 row9\" >trip_total_time</th>\n",
       "                        <td id=\"T_7667c1f6_f238_11ec_aa47_c4b301be4cc1row9_col0\" class=\"data row9 col0\" >0.008552</td>\n",
       "                        <td id=\"T_7667c1f6_f238_11ec_aa47_c4b301be4cc1row9_col1\" class=\"data row9 col1\" >0.713371</td>\n",
       "                        <td id=\"T_7667c1f6_f238_11ec_aa47_c4b301be4cc1row9_col2\" class=\"data row9 col2\" >0.932468</td>\n",
       "                        <td id=\"T_7667c1f6_f238_11ec_aa47_c4b301be4cc1row9_col3\" class=\"data row9 col3\" >-0.007336</td>\n",
       "                        <td id=\"T_7667c1f6_f238_11ec_aa47_c4b301be4cc1row9_col4\" class=\"data row9 col4\" >nan</td>\n",
       "                        <td id=\"T_7667c1f6_f238_11ec_aa47_c4b301be4cc1row9_col5\" class=\"data row9 col5\" >0.431799</td>\n",
       "                        <td id=\"T_7667c1f6_f238_11ec_aa47_c4b301be4cc1row9_col6\" class=\"data row9 col6\" >nan</td>\n",
       "                        <td id=\"T_7667c1f6_f238_11ec_aa47_c4b301be4cc1row9_col7\" class=\"data row9 col7\" >0.000000</td>\n",
       "                        <td id=\"T_7667c1f6_f238_11ec_aa47_c4b301be4cc1row9_col8\" class=\"data row9 col8\" >0.908421</td>\n",
       "                        <td id=\"T_7667c1f6_f238_11ec_aa47_c4b301be4cc1row9_col9\" class=\"data row9 col9\" >1.000000</td>\n",
       "            </tr>\n",
       "    </tbody></table>"
      ],
      "text/plain": [
       "<pandas.io.formats.style.Styler at 0x118292f40>"
      ]
     },
     "execution_count": 48,
     "metadata": {},
     "output_type": "execute_result"
    }
   ],
   "source": [
    "corr = data_clean.corr()\n",
    "corr.style.background_gradient(cmap='coolwarm')"
   ]
  },
  {
   "cell_type": "markdown",
   "id": "5d493650",
   "metadata": {},
   "source": [
    "As we can see in the plot, the tip as a fairly high correlation with the **trip distance**, the **the fare amount** and the feature we created, the **trip_total_time**. That means that our variable will be helpful when predicting the tip amount.\n",
    "\n",
    "Also there are correlations between the total amount and the fare amount, the trip distance and the total amount."
   ]
  },
  {
   "cell_type": "markdown",
   "id": "26812936",
   "metadata": {},
   "source": [
    "Now I will like to see if the tip amount depends on other categorical variables by looking at boxplots for them"
   ]
  },
  {
   "cell_type": "code",
   "execution_count": 49,
   "id": "026ed565",
   "metadata": {},
   "outputs": [
    {
     "data": {
      "text/plain": [
       "<AxesSubplot:title={'center':'tip_amount'}, xlabel='[VendorID]'>"
      ]
     },
     "execution_count": 49,
     "metadata": {},
     "output_type": "execute_result"
    },
    {
     "data": {
      "image/png": "[encoded data removed]",
      "text/plain": [
       "<Figure size 864x576 with 1 Axes>"
      ]
     },
     "metadata": {
      "needs_background": "light"
     },
     "output_type": "display_data"
    }
   ],
   "source": [
    "data_clean[['VendorID', 'tip_amount']].boxplot(by='VendorID', figsize=(12, 8))"
   ]
  },
  {
   "cell_type": "code",
   "execution_count": 50,
   "id": "f1852c07",
   "metadata": {},
   "outputs": [
    {
     "data": {
      "text/plain": [
       "<AxesSubplot:title={'center':'tip_amount'}, xlabel='[passenger_count]'>"
      ]
     },
     "execution_count": 50,
     "metadata": {},
     "output_type": "execute_result"
    },
    {
     "data": {
      "image/png": "[encoded data removed]",
      "text/plain": [
       "<Figure size 864x576 with 1 Axes>"
      ]
     },
     "metadata": {
      "needs_background": "light"
     },
     "output_type": "display_data"
    }
   ],
   "source": [
    "data_clean[['passenger_count', 'tip_amount']].boxplot(by='passenger_count', figsize=(12, 8))"
   ]
  },
  {
   "cell_type": "code",
   "execution_count": 51,
   "id": "785d3548",
   "metadata": {},
   "outputs": [
    {
     "data": {
      "text/plain": [
       "<AxesSubplot:title={'center':'tip_amount'}, xlabel='[RatecodeID]'>"
      ]
     },
     "execution_count": 51,
     "metadata": {},
     "output_type": "execute_result"
    },
    {
     "data": {
      "image/png": "[encoded data removed]",
      "text/plain": [
       "<Figure size 864x576 with 1 Axes>"
      ]
     },
     "metadata": {
      "needs_background": "light"
     },
     "output_type": "display_data"
    }
   ],
   "source": [
    "data_clean[['RatecodeID', 'tip_amount']].boxplot(by='RatecodeID', figsize=(12, 8))"
   ]
  },
  {
   "cell_type": "code",
   "execution_count": 52,
   "id": "6506b62c",
   "metadata": {},
   "outputs": [
    {
     "data": {
      "text/plain": [
       "<AxesSubplot:title={'center':'tip_amount'}, xlabel='[store_and_fwd_flag]'>"
      ]
     },
     "execution_count": 52,
     "metadata": {},
     "output_type": "execute_result"
    },
    {
     "data": {
      "image/png": "[encoded data removed]",
      "text/plain": [
       "<Figure size 864x576 with 1 Axes>"
      ]
     },
     "metadata": {
      "needs_background": "light"
     },
     "output_type": "display_data"
    }
   ],
   "source": [
    "data_clean[['store_and_fwd_flag', 'tip_amount']].boxplot(by='store_and_fwd_flag', figsize=(12, 8))"
   ]
  },
  {
   "cell_type": "code",
   "execution_count": 53,
   "id": "c3d0e34a",
   "metadata": {},
   "outputs": [
    {
     "data": {
      "text/plain": [
       "<AxesSubplot:title={'center':'tip_amount'}, xlabel='[payment_type]'>"
      ]
     },
     "execution_count": 53,
     "metadata": {},
     "output_type": "execute_result"
    },
    {
     "data": {
      "image/png": "[encoded data removed]",
      "text/plain": [
       "<Figure size 864x576 with 1 Axes>"
      ]
     },
     "metadata": {
      "needs_background": "light"
     },
     "output_type": "display_data"
    }
   ],
   "source": [
    "data_clean[['payment_type', 'tip_amount']].boxplot(by='payment_type', figsize=(12, 8))"
   ]
  },
  {
   "cell_type": "markdown",
   "id": "b880aa90",
   "metadata": {},
   "source": [
    "As we can see in the previous plots, the tip_amount only have differences in two variables:\n",
    "- **RatecodeID**: There are differences, although in most of the cases, the average tip amount is zero, except in the RatecodeID 1, which means Standard Rate, and 99, which is not defined in the dictionary. I will delete this feature, since it may be noisy.\n",
    "- **payment_type**: In this case, as we can see, the tips are basically 0 when the payment type is different than 1. I will keep only the rows with this payment type."
   ]
  },
  {
   "cell_type": "code",
   "execution_count": null,
   "id": "1e8d2e63",
   "metadata": {},
   "outputs": [],
   "source": []
  },
  {
   "cell_type": "code",
   "execution_count": 54,
   "id": "4034b779",
   "metadata": {},
   "outputs": [],
   "source": [
    "data_clean = data_clean[data_clean['payment_type'] == 1]"
   ]
  },
  {
   "cell_type": "code",
   "execution_count": null,
   "id": "4e8023e3",
   "metadata": {},
   "outputs": [],
   "source": []
  },
  {
   "cell_type": "markdown",
   "id": "6da47070",
   "metadata": {},
   "source": [
    "## Model building"
   ]
  },
  {
   "cell_type": "markdown",
   "id": "94d30abb",
   "metadata": {},
   "source": [
    "First before building our model, let's transform the columns we will use as indicated before. \n",
    "\n",
    "**The data will be split in Training and Test sets**. The Test set will be a 20% of the total amount of data. The train set will be used for training and the test to evaluate the model in data that haven't been seen before.\n",
    "\n",
    "Our model will need numeric features to be able to train properly, so we will delete the date columns, the don't needed categorical columns, and the needed ones will be encoded as One Hot Vectors. I will also Normalize and Scale the features. This will help the training process and will avoid that fetures which values in bigger scales take importance and \"hide\" others with smaller values.\n",
    "\n",
    "**The selected model will be an XGBoost model**, since it has been proved multiple times to work well in problems with tabular data as the one we have here. I will use a Randomized Grid Search with Cross Validation to optimize the hiper parameters of the model. I will use small number of K for the CrossValidation, since the dataset is hughe and will take time. I will also execute through 5 iterations, which means it will take 5 combination of values from the distributions given for each hyperparameter. Of course, we could lead to better results by trying more combinations, but for this use case, I think this will be enough.\n",
    "\n",
    "Finally, **to evaluate the quality of the model, the RMSE will be used**. I will use this measure because it's easy to explain and interprete, since the results are in the same unit as the target feature, and because it penalizes bigger errors over smaller errors. "
   ]
  },
  {
   "cell_type": "code",
   "execution_count": 72,
   "id": "4412da6d",
   "metadata": {},
   "outputs": [],
   "source": [
    "data_model = data_clean.drop(columns=['tpep_pickup_datetime', \n",
    "                                      'tpep_dropoff_datetime',\n",
    "                                      'PULocationID', \n",
    "                                      'DOLocationID',\n",
    "                                      'payment_type',\n",
    "                                      'VendorID',\n",
    "                                      'RatecodeID'])"
   ]
  },
  {
   "cell_type": "code",
   "execution_count": 73,
   "id": "dcd501e6",
   "metadata": {},
   "outputs": [],
   "source": [
    "#data_model['store_and_fwd_flag'] = data_model['store_and_fwd_flag'].apply(lambda x: 0 if x == 'N' else 1)"
   ]
  },
  {
   "cell_type": "code",
   "execution_count": 74,
   "id": "c09f9790",
   "metadata": {},
   "outputs": [],
   "source": [
    "#data_model['VendorID'] = data_model['VendorID'].apply(lambda x: 0 if x == 1 else 1)"
   ]
  },
  {
   "cell_type": "code",
   "execution_count": 75,
   "id": "0cce72f1",
   "metadata": {},
   "outputs": [],
   "source": [
    "from sklearn.preprocessing import OneHotEncoder, MinMaxScaler, Normalizer\n",
    "from sklearn.pipeline import Pipeline\n",
    "from sklearn.compose import ColumnTransformer\n",
    "from sklearn.model_selection import train_test_split, RandomizedSearchCV\n",
    "from sklearn.metrics import mean_squared_error\n",
    "import xgboost as xgb"
   ]
  },
  {
   "cell_type": "code",
   "execution_count": 76,
   "id": "55f8e533",
   "metadata": {},
   "outputs": [],
   "source": [
    "X_train, X_test, y_train, y_test = train_test_split(data_model.loc[:, data_model.columns != 'tip_amount'], data_model['tip_amount'], test_size=0.20)"
   ]
  },
  {
   "cell_type": "code",
   "execution_count": 77,
   "id": "4bd7d9b8",
   "metadata": {},
   "outputs": [],
   "source": [
    "num_features = X_train.select_dtypes('number')"
   ]
  },
  {
   "cell_type": "code",
   "execution_count": 88,
   "id": "485420da",
   "metadata": {},
   "outputs": [],
   "source": [
    "cat_features = X_train.select_dtypes('category')"
   ]
  },
  {
   "cell_type": "code",
   "execution_count": 104,
   "id": "c14acaba",
   "metadata": {},
   "outputs": [],
   "source": [
    "categorical_pipeline = Pipeline(steps=[\n",
    "    ('ohe', OneHotEncoder())\n",
    "])\n",
    "\n",
    "\n",
    "numerical_pipeline = Pipeline(steps=[\n",
    "    ('normalizer', Normalizer()),\n",
    "    ('scaler', MinMaxScaler())\n",
    "])\n"
   ]
  },
  {
   "cell_type": "code",
   "execution_count": 105,
   "id": "97bcca0a",
   "metadata": {},
   "outputs": [],
   "source": [
    "full_pipeline = ColumnTransformer(transformers=[\n",
    "    ('numbers', numerical_pipeline, num_features.columns.values),\n",
    "    ('categories', categorical_pipeline, cat_features.columns.values),\n",
    "])"
   ]
  },
  {
   "cell_type": "markdown",
   "id": "4ecfb3c6",
   "metadata": {},
   "source": [
    "xgb_model = xgb.XGBRegressor(objective='reg:squarederror', \n",
    "                             colsample_bytree=0.2,\n",
    "                             learning_rate=0.1,\n",
    "                             alpha=10,\n",
    "                             max_depth=5,\n",
    "                             n_estimators=500)"
   ]
  },
  {
   "cell_type": "code",
   "execution_count": 106,
   "id": "315503c4",
   "metadata": {},
   "outputs": [],
   "source": [
    "xgb_model = xgb.XGBRegressor(objective='reg:squarederror')"
   ]
  },
  {
   "cell_type": "code",
   "execution_count": 107,
   "id": "ae7b50af",
   "metadata": {},
   "outputs": [],
   "source": [
    "xgb_pipeline = Pipeline(steps=[\n",
    "    ('processor', full_pipeline),\n",
    "    ('xgb_model', xgb_model)\n",
    "])"
   ]
  },
  {
   "cell_type": "code",
   "execution_count": 108,
   "id": "99b0c4fd",
   "metadata": {},
   "outputs": [],
   "source": [
    "param_dict = {\n",
    "    'xgb_model__colsample_bytree': [0.2, 0.3, 0.5],\n",
    "    'xgb_model__learning_rate': [0.1, 0.01, 0.001],\n",
    "    'xgb_model__alpha': [0, 1, 10],\n",
    "    'xgb_model__max_depth': [5, 10],\n",
    "    'xgb_model__n_estimators': [100, 500, 1000]\n",
    "}"
   ]
  },
  {
   "cell_type": "code",
   "execution_count": 111,
   "id": "e10d3a31",
   "metadata": {},
   "outputs": [],
   "source": [
    "search = RandomizedSearchCV(xgb_pipeline, \n",
    "                            param_dict, \n",
    "                            cv=3,\n",
    "                            n_iter=5,\n",
    "                            scoring='neg_root_mean_squared_error',\n",
    "                            n_jobs=4)"
   ]
  },
  {
   "cell_type": "code",
   "execution_count": 112,
   "id": "d6d14a3a",
   "metadata": {},
   "outputs": [
    {
     "data": {
      "text/html": [
       "<style>#sk-container-id-1 {color: black;background-color: white;}#sk-container-id-1 pre{padding: 0;}#sk-container-id-1 div.sk-toggleable {background-color: white;}#sk-container-id-1 label.sk-toggleable__label {cursor: pointer;display: block;width: 100%;margin-bottom: 0;padding: 0.3em;box-sizing: border-box;text-align: center;}#sk-container-id-1 label.sk-toggleable__label-arrow:before {content: \"▸\";float: left;margin-right: 0.25em;color: #696969;}#sk-container-id-1 label.sk-toggleable__label-arrow:hover:before {color: black;}#sk-container-id-1 div.sk-estimator:hover label.sk-toggleable__label-arrow:before {color: black;}#sk-container-id-1 div.sk-toggleable__content {max-height: 0;max-width: 0;overflow: hidden;text-align: left;background-color: #f0f8ff;}#sk-container-id-1 div.sk-toggleable__content pre {margin: 0.2em;color: black;border-radius: 0.25em;background-color: #f0f8ff;}#sk-container-id-1 input.sk-toggleable__control:checked~div.sk-toggleable__content {max-height: 200px;max-width: 100%;overflow: auto;}#sk-container-id-1 input.sk-toggleable__control:checked~label.sk-toggleable__label-arrow:before {content: \"▾\";}#sk-container-id-1 div.sk-estimator input.sk-toggleable__control:checked~label.sk-toggleable__label {background-color: #d4ebff;}#sk-container-id-1 div.sk-label input.sk-toggleable__control:checked~label.sk-toggleable__label {background-color: #d4ebff;}#sk-container-id-1 input.sk-hidden--visually {border: 0;clip: rect(1px 1px 1px 1px);clip: rect(1px, 1px, 1px, 1px);height: 1px;margin: -1px;overflow: hidden;padding: 0;position: absolute;width: 1px;}#sk-container-id-1 div.sk-estimator {font-family: monospace;background-color: #f0f8ff;border: 1px dotted black;border-radius: 0.25em;box-sizing: border-box;margin-bottom: 0.5em;}#sk-container-id-1 div.sk-estimator:hover {background-color: #d4ebff;}#sk-container-id-1 div.sk-parallel-item::after {content: \"\";width: 100%;border-bottom: 1px solid gray;flex-grow: 1;}#sk-container-id-1 div.sk-label:hover label.sk-toggleable__label {background-color: #d4ebff;}#sk-container-id-1 div.sk-serial::before {content: \"\";position: absolute;border-left: 1px solid gray;box-sizing: border-box;top: 0;bottom: 0;left: 50%;z-index: 0;}#sk-container-id-1 div.sk-serial {display: flex;flex-direction: column;align-items: center;background-color: white;padding-right: 0.2em;padding-left: 0.2em;position: relative;}#sk-container-id-1 div.sk-item {position: relative;z-index: 1;}#sk-container-id-1 div.sk-parallel {display: flex;align-items: stretch;justify-content: center;background-color: white;position: relative;}#sk-container-id-1 div.sk-item::before, #sk-container-id-1 div.sk-parallel-item::before {content: \"\";position: absolute;border-left: 1px solid gray;box-sizing: border-box;top: 0;bottom: 0;left: 50%;z-index: -1;}#sk-container-id-1 div.sk-parallel-item {display: flex;flex-direction: column;z-index: 1;position: relative;background-color: white;}#sk-container-id-1 div.sk-parallel-item:first-child::after {align-self: flex-end;width: 50%;}#sk-container-id-1 div.sk-parallel-item:last-child::after {align-self: flex-start;width: 50%;}#sk-container-id-1 div.sk-parallel-item:only-child::after {width: 0;}#sk-container-id-1 div.sk-dashed-wrapped {border: 1px dashed gray;margin: 0 0.4em 0.5em 0.4em;box-sizing: border-box;padding-bottom: 0.4em;background-color: white;}#sk-container-id-1 div.sk-label label {font-family: monospace;font-weight: bold;display: inline-block;line-height: 1.2em;}#sk-container-id-1 div.sk-label-container {text-align: center;}#sk-container-id-1 div.sk-container {/* jupyter's `normalize.less` sets `[hidden] { display: none; }` but bootstrap.min.css set `[hidden] { display: none !important; }` so we also need the `!important` here to be able to override the default hidden behavior on the sphinx rendered scikit-learn.org. See: https://github.com/scikit-learn/scikit-learn/issues/21755 */display: inline-block !important;position: relative;}#sk-container-id-1 div.sk-text-repr-fallback {display: none;}</style><div id=\"sk-container-id-1\" class=\"sk-top-container\"><div class=\"sk-text-repr-fallback\"><pre>RandomizedSearchCV(cv=3,\n",
       "                   estimator=Pipeline(steps=[(&#x27;processor&#x27;,\n",
       "                                              ColumnTransformer(transformers=[(&#x27;numbers&#x27;,\n",
       "                                                                               Pipeline(steps=[(&#x27;normalizer&#x27;,\n",
       "                                                                                                Normalizer()),\n",
       "                                                                                               (&#x27;scaler&#x27;,\n",
       "                                                                                                MinMaxScaler())]),\n",
       "                                                                               array([&#x27;passenger_count&#x27;, &#x27;trip_distance&#x27;, &#x27;fare_amount&#x27;, &#x27;extra&#x27;,\n",
       "       &#x27;mta_tax&#x27;, &#x27;tolls_amount&#x27;, &#x27;improvement_surcharge&#x27;, &#x27;total_amount&#x27;,\n",
       "       &#x27;trip_total_time&#x27;], dtype=object)),\n",
       "                                                                              (&#x27;categorie...\n",
       "                                                           num_parallel_tree=None,\n",
       "                                                           predictor=None,\n",
       "                                                           random_state=None,\n",
       "                                                           reg_alpha=None,\n",
       "                                                           reg_lambda=None, ...))]),\n",
       "                   n_iter=5, n_jobs=4,\n",
       "                   param_distributions={&#x27;xgb_model__alpha&#x27;: [0, 1, 10],\n",
       "                                        &#x27;xgb_model__colsample_bytree&#x27;: [0.2,\n",
       "                                                                        0.3,\n",
       "                                                                        0.5],\n",
       "                                        &#x27;xgb_model__learning_rate&#x27;: [0.1, 0.01,\n",
       "                                                                     0.001],\n",
       "                                        &#x27;xgb_model__max_depth&#x27;: [5, 10],\n",
       "                                        &#x27;xgb_model__n_estimators&#x27;: [100, 500,\n",
       "                                                                    1000]},\n",
       "                   scoring=&#x27;neg_root_mean_squared_error&#x27;)</pre><b>In a Jupyter environment, please rerun this cell to show the HTML representation or trust the notebook. <br />On GitHub, the HTML representation is unable to render, please try loading this page with nbviewer.org.</b></div><div class=\"sk-container\" hidden><div class=\"sk-item sk-dashed-wrapped\"><div class=\"sk-label-container\"><div class=\"sk-label sk-toggleable\"><input class=\"sk-toggleable__control sk-hidden--visually\" id=\"sk-estimator-id-1\" type=\"checkbox\" ><label for=\"sk-estimator-id-1\" class=\"sk-toggleable__label sk-toggleable__label-arrow\">RandomizedSearchCV</label><div class=\"sk-toggleable__content\"><pre>RandomizedSearchCV(cv=3,\n",
       "                   estimator=Pipeline(steps=[(&#x27;processor&#x27;,\n",
       "                                              ColumnTransformer(transformers=[(&#x27;numbers&#x27;,\n",
       "                                                                               Pipeline(steps=[(&#x27;normalizer&#x27;,\n",
       "                                                                                                Normalizer()),\n",
       "                                                                                               (&#x27;scaler&#x27;,\n",
       "                                                                                                MinMaxScaler())]),\n",
       "                                                                               array([&#x27;passenger_count&#x27;, &#x27;trip_distance&#x27;, &#x27;fare_amount&#x27;, &#x27;extra&#x27;,\n",
       "       &#x27;mta_tax&#x27;, &#x27;tolls_amount&#x27;, &#x27;improvement_surcharge&#x27;, &#x27;total_amount&#x27;,\n",
       "       &#x27;trip_total_time&#x27;], dtype=object)),\n",
       "                                                                              (&#x27;categorie...\n",
       "                                                           num_parallel_tree=None,\n",
       "                                                           predictor=None,\n",
       "                                                           random_state=None,\n",
       "                                                           reg_alpha=None,\n",
       "                                                           reg_lambda=None, ...))]),\n",
       "                   n_iter=5, n_jobs=4,\n",
       "                   param_distributions={&#x27;xgb_model__alpha&#x27;: [0, 1, 10],\n",
       "                                        &#x27;xgb_model__colsample_bytree&#x27;: [0.2,\n",
       "                                                                        0.3,\n",
       "                                                                        0.5],\n",
       "                                        &#x27;xgb_model__learning_rate&#x27;: [0.1, 0.01,\n",
       "                                                                     0.001],\n",
       "                                        &#x27;xgb_model__max_depth&#x27;: [5, 10],\n",
       "                                        &#x27;xgb_model__n_estimators&#x27;: [100, 500,\n",
       "                                                                    1000]},\n",
       "                   scoring=&#x27;neg_root_mean_squared_error&#x27;)</pre></div></div></div><div class=\"sk-parallel\"><div class=\"sk-parallel-item\"><div class=\"sk-item\"><div class=\"sk-label-container\"><div class=\"sk-label sk-toggleable\"><input class=\"sk-toggleable__control sk-hidden--visually\" id=\"sk-estimator-id-2\" type=\"checkbox\" ><label for=\"sk-estimator-id-2\" class=\"sk-toggleable__label sk-toggleable__label-arrow\">estimator: Pipeline</label><div class=\"sk-toggleable__content\"><pre>Pipeline(steps=[(&#x27;processor&#x27;,\n",
       "                 ColumnTransformer(transformers=[(&#x27;numbers&#x27;,\n",
       "                                                  Pipeline(steps=[(&#x27;normalizer&#x27;,\n",
       "                                                                   Normalizer()),\n",
       "                                                                  (&#x27;scaler&#x27;,\n",
       "                                                                   MinMaxScaler())]),\n",
       "                                                  array([&#x27;passenger_count&#x27;, &#x27;trip_distance&#x27;, &#x27;fare_amount&#x27;, &#x27;extra&#x27;,\n",
       "       &#x27;mta_tax&#x27;, &#x27;tolls_amount&#x27;, &#x27;improvement_surcharge&#x27;, &#x27;total_amount&#x27;,\n",
       "       &#x27;trip_total_time&#x27;], dtype=object)),\n",
       "                                                 (&#x27;categories&#x27;,\n",
       "                                                  Pipeline(steps=[(&#x27;ohe&#x27;,\n",
       "                                                                   OneHotEn...\n",
       "                              gamma=None, gpu_id=None, grow_policy=None,\n",
       "                              importance_type=None,\n",
       "                              interaction_constraints=None, learning_rate=None,\n",
       "                              max_bin=None, max_cat_to_onehot=None,\n",
       "                              max_delta_step=None, max_depth=None,\n",
       "                              max_leaves=None, min_child_weight=None,\n",
       "                              missing=nan, monotone_constraints=None,\n",
       "                              n_estimators=100, n_jobs=None,\n",
       "                              num_parallel_tree=None, predictor=None,\n",
       "                              random_state=None, reg_alpha=None,\n",
       "                              reg_lambda=None, ...))])</pre></div></div></div><div class=\"sk-serial\"><div class=\"sk-item\"><div class=\"sk-serial\"><div class=\"sk-item sk-dashed-wrapped\"><div class=\"sk-label-container\"><div class=\"sk-label sk-toggleable\"><input class=\"sk-toggleable__control sk-hidden--visually\" id=\"sk-estimator-id-3\" type=\"checkbox\" ><label for=\"sk-estimator-id-3\" class=\"sk-toggleable__label sk-toggleable__label-arrow\">processor: ColumnTransformer</label><div class=\"sk-toggleable__content\"><pre>ColumnTransformer(transformers=[(&#x27;numbers&#x27;,\n",
       "                                 Pipeline(steps=[(&#x27;normalizer&#x27;, Normalizer()),\n",
       "                                                 (&#x27;scaler&#x27;, MinMaxScaler())]),\n",
       "                                 array([&#x27;passenger_count&#x27;, &#x27;trip_distance&#x27;, &#x27;fare_amount&#x27;, &#x27;extra&#x27;,\n",
       "       &#x27;mta_tax&#x27;, &#x27;tolls_amount&#x27;, &#x27;improvement_surcharge&#x27;, &#x27;total_amount&#x27;,\n",
       "       &#x27;trip_total_time&#x27;], dtype=object)),\n",
       "                                (&#x27;categories&#x27;,\n",
       "                                 Pipeline(steps=[(&#x27;ohe&#x27;, OneHotEncoder())]),\n",
       "                                 array([&#x27;store_and_fwd_flag&#x27;], dtype=object))])</pre></div></div></div><div class=\"sk-parallel\"><div class=\"sk-parallel-item\"><div class=\"sk-item\"><div class=\"sk-label-container\"><div class=\"sk-label sk-toggleable\"><input class=\"sk-toggleable__control sk-hidden--visually\" id=\"sk-estimator-id-4\" type=\"checkbox\" ><label for=\"sk-estimator-id-4\" class=\"sk-toggleable__label sk-toggleable__label-arrow\">numbers</label><div class=\"sk-toggleable__content\"><pre>[&#x27;passenger_count&#x27; &#x27;trip_distance&#x27; &#x27;fare_amount&#x27; &#x27;extra&#x27; &#x27;mta_tax&#x27;\n",
       " &#x27;tolls_amount&#x27; &#x27;improvement_surcharge&#x27; &#x27;total_amount&#x27; &#x27;trip_total_time&#x27;]</pre></div></div></div><div class=\"sk-serial\"><div class=\"sk-item\"><div class=\"sk-serial\"><div class=\"sk-item\"><div class=\"sk-estimator sk-toggleable\"><input class=\"sk-toggleable__control sk-hidden--visually\" id=\"sk-estimator-id-5\" type=\"checkbox\" ><label for=\"sk-estimator-id-5\" class=\"sk-toggleable__label sk-toggleable__label-arrow\">Normalizer</label><div class=\"sk-toggleable__content\"><pre>Normalizer()</pre></div></div></div><div class=\"sk-item\"><div class=\"sk-estimator sk-toggleable\"><input class=\"sk-toggleable__control sk-hidden--visually\" id=\"sk-estimator-id-6\" type=\"checkbox\" ><label for=\"sk-estimator-id-6\" class=\"sk-toggleable__label sk-toggleable__label-arrow\">MinMaxScaler</label><div class=\"sk-toggleable__content\"><pre>MinMaxScaler()</pre></div></div></div></div></div></div></div></div><div class=\"sk-parallel-item\"><div class=\"sk-item\"><div class=\"sk-label-container\"><div class=\"sk-label sk-toggleable\"><input class=\"sk-toggleable__control sk-hidden--visually\" id=\"sk-estimator-id-7\" type=\"checkbox\" ><label for=\"sk-estimator-id-7\" class=\"sk-toggleable__label sk-toggleable__label-arrow\">categories</label><div class=\"sk-toggleable__content\"><pre>[&#x27;store_and_fwd_flag&#x27;]</pre></div></div></div><div class=\"sk-serial\"><div class=\"sk-item\"><div class=\"sk-serial\"><div class=\"sk-item\"><div class=\"sk-estimator sk-toggleable\"><input class=\"sk-toggleable__control sk-hidden--visually\" id=\"sk-estimator-id-8\" type=\"checkbox\" ><label for=\"sk-estimator-id-8\" class=\"sk-toggleable__label sk-toggleable__label-arrow\">OneHotEncoder</label><div class=\"sk-toggleable__content\"><pre>OneHotEncoder()</pre></div></div></div></div></div></div></div></div></div></div><div class=\"sk-item\"><div class=\"sk-estimator sk-toggleable\"><input class=\"sk-toggleable__control sk-hidden--visually\" id=\"sk-estimator-id-9\" type=\"checkbox\" ><label for=\"sk-estimator-id-9\" class=\"sk-toggleable__label sk-toggleable__label-arrow\">XGBRegressor</label><div class=\"sk-toggleable__content\"><pre>XGBRegressor(base_score=None, booster=None, callbacks=None,\n",
       "             colsample_bylevel=None, colsample_bynode=None,\n",
       "             colsample_bytree=None, early_stopping_rounds=None,\n",
       "             enable_categorical=False, eval_metric=None, gamma=None,\n",
       "             gpu_id=None, grow_policy=None, importance_type=None,\n",
       "             interaction_constraints=None, learning_rate=None, max_bin=None,\n",
       "             max_cat_to_onehot=None, max_delta_step=None, max_depth=None,\n",
       "             max_leaves=None, min_child_weight=None, missing=nan,\n",
       "             monotone_constraints=None, n_estimators=100, n_jobs=None,\n",
       "             num_parallel_tree=None, predictor=None, random_state=None,\n",
       "             reg_alpha=None, reg_lambda=None, ...)</pre></div></div></div></div></div></div></div></div></div></div></div></div>"
      ],
      "text/plain": [
       "RandomizedSearchCV(cv=3,\n",
       "                   estimator=Pipeline(steps=[('processor',\n",
       "                                              ColumnTransformer(transformers=[('numbers',\n",
       "                                                                               Pipeline(steps=[('normalizer',\n",
       "                                                                                                Normalizer()),\n",
       "                                                                                               ('scaler',\n",
       "                                                                                                MinMaxScaler())]),\n",
       "                                                                               array(['passenger_count', 'trip_distance', 'fare_amount', 'extra',\n",
       "       'mta_tax', 'tolls_amount', 'improvement_surcharge', 'total_amount',\n",
       "       'trip_total_time'], dtype=object)),\n",
       "                                                                              ('categorie...\n",
       "                                                           num_parallel_tree=None,\n",
       "                                                           predictor=None,\n",
       "                                                           random_state=None,\n",
       "                                                           reg_alpha=None,\n",
       "                                                           reg_lambda=None, ...))]),\n",
       "                   n_iter=5, n_jobs=4,\n",
       "                   param_distributions={'xgb_model__alpha': [0, 1, 10],\n",
       "                                        'xgb_model__colsample_bytree': [0.2,\n",
       "                                                                        0.3,\n",
       "                                                                        0.5],\n",
       "                                        'xgb_model__learning_rate': [0.1, 0.01,\n",
       "                                                                     0.001],\n",
       "                                        'xgb_model__max_depth': [5, 10],\n",
       "                                        'xgb_model__n_estimators': [100, 500,\n",
       "                                                                    1000]},\n",
       "                   scoring='neg_root_mean_squared_error')"
      ]
     },
     "execution_count": 112,
     "metadata": {},
     "output_type": "execute_result"
    }
   ],
   "source": [
    "search.fit(X_train, y_train)"
   ]
  },
  {
   "cell_type": "markdown",
   "id": "31dc7f48",
   "metadata": {},
   "source": [
    "I will save the grid search object so we don't need to train the model again."
   ]
  },
  {
   "cell_type": "code",
   "execution_count": 119,
   "id": "e7d56069",
   "metadata": {},
   "outputs": [],
   "source": [
    "import joblib"
   ]
  },
  {
   "cell_type": "code",
   "execution_count": 114,
   "id": "326f7d08",
   "metadata": {},
   "outputs": [
    {
     "data": {
      "text/plain": [
       "['grid_search_model.pkl']"
      ]
     },
     "execution_count": 114,
     "metadata": {},
     "output_type": "execute_result"
    }
   ],
   "source": [
    "joblib.dump(search, 'grid_search_model.pkl')"
   ]
  },
  {
   "cell_type": "markdown",
   "id": "11fe6223",
   "metadata": {},
   "source": [
    "Finally, let's make predictions on the Test set by using the best model found by the Randomized Grid Search. Then we will evaluate using the RMSE to see the performance of our model."
   ]
  },
  {
   "cell_type": "code",
   "execution_count": 116,
   "id": "f7ab209a",
   "metadata": {},
   "outputs": [],
   "source": [
    "preds = search.best_estimator_.predict(X_test)"
   ]
  },
  {
   "cell_type": "code",
   "execution_count": 117,
   "id": "d873e780",
   "metadata": {},
   "outputs": [
    {
     "data": {
      "text/plain": [
       "0.1676252094817493"
      ]
     },
     "execution_count": 117,
     "metadata": {},
     "output_type": "execute_result"
    }
   ],
   "source": [
    "mean_squared_error(y_test, preds, squared=False)"
   ]
  },
  {
   "cell_type": "markdown",
   "id": "a38fcf01",
   "metadata": {},
   "source": [
    "As we can see, the error commited is an error of **16.7 cents** (0.167\\\\$) which I think it's a pretty decent one. If we take in consideration that the average tip is ~2.14\\\\$, **the error we are commiting is around 7.8%**."
   ]
  }
 ],
 "metadata": {
  "kernelspec": {
   "display_name": "Python 3 (ipykernel)",
   "language": "python",
   "name": "python3"
  },
  "language_info": {
   "codemirror_mode": {
    "name": "ipython",
    "version": 3
   },
   "file_extension": ".py",
   "mimetype": "text/x-python",
   "name": "python",
   "nbconvert_exporter": "python",
   "pygments_lexer": "ipython3",
   "version": "3.9.1"
  }
 },
 "nbformat": 4,
 "nbformat_minor": 5
}
